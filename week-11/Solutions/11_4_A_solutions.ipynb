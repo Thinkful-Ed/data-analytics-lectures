{
  "nbformat": 4,
  "nbformat_minor": 0,
  "metadata": {
    "colab": {
      "name": "11_4_A_solutions",
      "provenance": []
    },
    "kernelspec": {
      "name": "python3",
      "display_name": "Python 3"
    }
  },
  "cells": [
    {
      "cell_type": "markdown",
      "metadata": {
        "id": "TKfUhT8mddUI",
        "colab_type": "text"
      },
      "source": [
        "[Solutions for workshop 11.4.A](https://docs.google.com/presentation/d/1WgEtT3R6A48gG8HZte-WMQsbfbmsHHnXutUy7JjUu1Q/edit#slide=id.g5d1ca39295_0_74)\n",
        "\n",
        "# Indexing & slicing lists"
      ]
    },
    {
      "cell_type": "code",
      "metadata": {
        "id": "Iqc4-nPjvIwA",
        "colab_type": "code",
        "outputId": "5889103e-8768-4258-d7e7-5819c04dc997",
        "colab": {
          "base_uri": "https://localhost:8080/",
          "height": 90
        }
      },
      "source": [
        "my_list = [\"Thinkful\",\"Data\",\"Analytics\",[\"The\",\"Best\"],[\"Immersive\",12,\"Weeks\"],\"Program\"]\n",
        "\n",
        "print(my_list[1:3])\n",
        "print(my_list[0][1:])\n",
        "print(my_list[4][2])\n",
        "print(my_list[-2:])\n",
        "\n",
        "\n",
        "\n"
      ],
      "execution_count": 0,
      "outputs": [
        {
          "output_type": "stream",
          "text": [
            "hinkful\n",
            "Weeks\n",
            "[['Immersive', 12, 'Weeks'], 'Program']\n",
            "Analytics\n"
          ],
          "name": "stdout"
        }
      ]
    },
    {
      "cell_type": "markdown",
      "metadata": {
        "id": "V1W_pLwrdsFO",
        "colab_type": "text"
      },
      "source": [
        "# Updating and replacing lists"
      ]
    },
    {
      "cell_type": "code",
      "metadata": {
        "id": "OeSCKGax1LQI",
        "colab_type": "code",
        "outputId": "d9982227-e267-47d6-f1ad-6089f25a901e",
        "colab": {
          "base_uri": "https://localhost:8080/",
          "height": 35
        }
      },
      "source": [
        "grocery = [\"milk\", \"eggs\", \"bread\", \"cheese\", \"pasta\", \"ice cream\"]\n",
        "\n",
        "grocery[2] = 'pretzels'\n",
        "\n",
        "print(grocery)"
      ],
      "execution_count": 0,
      "outputs": [
        {
          "output_type": "stream",
          "text": [
            "['milk', 'eggs', 'pretzels', 'cheese', 'pasta', 'ice cream']\n"
          ],
          "name": "stdout"
        }
      ]
    },
    {
      "cell_type": "markdown",
      "metadata": {
        "id": "suY-qZAEdw68",
        "colab_type": "text"
      },
      "source": [
        "# Find Waldo"
      ]
    },
    {
      "cell_type": "code",
      "metadata": {
        "id": "iJnakhCtyi0y",
        "colab_type": "code",
        "outputId": "786b6177-f19a-4883-c95f-c931278fd5f6",
        "colab": {
          "base_uri": "https://localhost:8080/",
          "height": 71
        }
      },
      "source": [
        "def find_waldo(list):\n",
        "  try:\n",
        "    return list.index('Waldo')\n",
        "  except ValueError:\n",
        "    return \"You haven't found Waldo.\"\n",
        "\n",
        "my_list = [\"I'm\",\"enjoying\",\"data\",\"Waldo\",\"analytics\"]\n",
        "my_2nd_list = [\"I'm\",\"enjoying\",\"data\",\"Waldo\",\"analytics\",\"Waldo\"]\n",
        "my_3rd_list = [\"I'm\",\"enjoying\",\"data\",\"analytics\"]\n",
        "\n",
        "print(find_waldo(my_list))\n",
        "print(find_waldo(my_2nd_list))\n",
        "print(find_waldo(my_3rd_list))"
      ],
      "execution_count": 0,
      "outputs": [
        {
          "output_type": "stream",
          "text": [
            "3\n",
            "3\n",
            "You haven't found Waldo.\n"
          ],
          "name": "stdout"
        }
      ]
    },
    {
      "cell_type": "markdown",
      "metadata": {
        "id": "RBuDtrv8d3J4",
        "colab_type": "text"
      },
      "source": [
        "# Count A's"
      ]
    },
    {
      "cell_type": "code",
      "metadata": {
        "id": "wojq7IfxB9_o",
        "colab_type": "code",
        "colab": {}
      },
      "source": [
        "grades = ['A','C','B','D','D','A','B','F','C']\n",
        "\n",
        "grades.count('A')"
      ],
      "execution_count": 0,
      "outputs": []
    },
    {
      "cell_type": "markdown",
      "metadata": {
        "id": "qFmTq8osd8mo",
        "colab_type": "text"
      },
      "source": [
        "# Print all list items, capitalized"
      ]
    },
    {
      "cell_type": "code",
      "metadata": {
        "id": "SUqTotorW85U",
        "colab_type": "code",
        "outputId": "c8cffb9b-4869-491f-ecf1-11f77dde2c93",
        "colab": {
          "base_uri": "https://localhost:8080/",
          "height": 108
        }
      },
      "source": [
        "upper_list_items = [\"Don't\",\"give\",\"up\",\"the\",\"ship!\"]\n",
        "\n",
        "for item in upper_list_items:\n",
        "  print(item.upper())"
      ],
      "execution_count": 1,
      "outputs": [
        {
          "output_type": "stream",
          "text": [
            "DON'T\n",
            "GIVE\n",
            "UP\n",
            "THE\n",
            "SHIP!\n"
          ],
          "name": "stdout"
        }
      ]
    },
    {
      "cell_type": "markdown",
      "metadata": {
        "id": "1DsMDzoWeEeL",
        "colab_type": "text"
      },
      "source": [
        "# Countdown"
      ]
    },
    {
      "cell_type": "code",
      "metadata": {
        "id": "nj1Zu_uWZH7-",
        "colab_type": "code",
        "outputId": "eea002d0-f393-4ba9-89ff-431a5eb99b42",
        "colab": {
          "base_uri": "https://localhost:8080/",
          "height": 217
        }
      },
      "source": [
        "def countdown(n) :\n",
        "  while n > 0:\n",
        "    print (n)\n",
        "    n = n - 1\n",
        "  if n == 0:\n",
        "    print('BLAST OFF!')\n",
        "\n",
        "countdown(10)"
      ],
      "execution_count": 0,
      "outputs": [
        {
          "output_type": "stream",
          "text": [
            "10\n",
            "9\n",
            "8\n",
            "7\n",
            "6\n",
            "5\n",
            "4\n",
            "3\n",
            "2\n",
            "1\n",
            "BLAST OFF!\n"
          ],
          "name": "stdout"
        }
      ]
    },
    {
      "cell_type": "markdown",
      "metadata": {
        "id": "Tj9dtsAmeGF_",
        "colab_type": "text"
      },
      "source": [
        "# Count up"
      ]
    },
    {
      "cell_type": "code",
      "metadata": {
        "id": "hlpfkUZK0p1M",
        "colab_type": "code",
        "outputId": "195bad8a-38f2-486b-e543-bb98e18e8659",
        "colab": {
          "base_uri": "https://localhost:8080/",
          "height": 217
        }
      },
      "source": [
        "counter = 1\n",
        "\n",
        "while counter < 10:\n",
        "    print(counter)\n",
        "    counter = counter + 1\n",
        "else:\n",
        "    print(counter)\n",
        "    print('Counted to ' + str(counter))"
      ],
      "execution_count": 0,
      "outputs": [
        {
          "output_type": "stream",
          "text": [
            "1\n",
            "2\n",
            "3\n",
            "4\n",
            "5\n",
            "6\n",
            "7\n",
            "8\n",
            "9\n",
            "10\n",
            "Counted to 10\n"
          ],
          "name": "stdout"
        }
      ]
    }
  ]
}