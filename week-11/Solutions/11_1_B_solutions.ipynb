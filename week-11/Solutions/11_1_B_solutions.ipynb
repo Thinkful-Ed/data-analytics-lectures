{
  "nbformat": 4,
  "nbformat_minor": 0,
  "metadata": {
    "colab": {
      "name": "11-1-B-solutions",
      "provenance": []
    },
    "kernelspec": {
      "name": "python3",
      "display_name": "Python 3"
    }
  },
  "cells": [
    {
      "cell_type": "markdown",
      "metadata": {
        "id": "KEhYkbDUZ9K3",
        "colab_type": "text"
      },
      "source": [
        "[Solutions notebook for workshop 11.1.B](https://docs.google.com/presentation/d/1YTvvE6uy_Md4PKHLN3PJOw4_wYEkcH8LaKWiLP0PNR8/edit#slide=id.g6c572f82bb_0_0)"
      ]
    },
    {
      "cell_type": "markdown",
      "metadata": {
        "id": "-PwVZWpUYR7N",
        "colab_type": "text"
      },
      "source": [
        "# Warm-up: which is an invalid variable name? "
      ]
    },
    {
      "cell_type": "code",
      "metadata": {
        "id": "yyBbg6PQYQzx",
        "colab_type": "code",
        "colab": {
          "base_uri": "https://localhost:8080/",
          "height": 35
        },
        "outputId": "27ae2e2a-ef1a-4647-acbe-bb660cc0e62e"
      },
      "source": [
        "# Option A\n",
        "my_string_1 = 1\n",
        "print(my_string_1)"
      ],
      "execution_count": 2,
      "outputs": [
        {
          "output_type": "stream",
          "text": [
            "1\n"
          ],
          "name": "stdout"
        }
      ]
    },
    {
      "cell_type": "code",
      "metadata": {
        "id": "FMJkw8j1YfAJ",
        "colab_type": "code",
        "colab": {
          "base_uri": "https://localhost:8080/",
          "height": 136
        },
        "outputId": "37b66e9e-0b43-4031-f545-64beef5c1cf5"
      },
      "source": [
        "# Option B\n",
        "1st_string = 1\n",
        "print(1st_string)"
      ],
      "execution_count": 1,
      "outputs": [
        {
          "output_type": "error",
          "ename": "SyntaxError",
          "evalue": "ignored",
          "traceback": [
            "\u001b[0;36m  File \u001b[0;32m\"<ipython-input-1-5e21192f5a29>\"\u001b[0;36m, line \u001b[0;32m1\u001b[0m\n\u001b[0;31m    1st_string = 1\u001b[0m\n\u001b[0m             ^\u001b[0m\n\u001b[0;31mSyntaxError\u001b[0m\u001b[0;31m:\u001b[0m invalid syntax\n"
          ]
        }
      ]
    },
    {
      "cell_type": "code",
      "metadata": {
        "id": "CkTngvE0Ylsx",
        "colab_type": "code",
        "colab": {}
      },
      "source": [
        "# Option C\n",
        "razzle.dazzle = 1\n",
        "print(razzle.dazzle)"
      ],
      "execution_count": 0,
      "outputs": []
    },
    {
      "cell_type": "code",
      "metadata": {
        "id": "KDE9HHXHYqKN",
        "colab_type": "code",
        "colab": {
          "base_uri": "https://localhost:8080/",
          "height": 35
        },
        "outputId": "aa5056da-a545-440e-c05c-2e073128a5e8"
      },
      "source": [
        "# Option D\n",
        "_ = 1\n",
        "print(_)"
      ],
      "execution_count": 3,
      "outputs": [
        {
          "output_type": "stream",
          "text": [
            "1\n"
          ],
          "name": "stdout"
        }
      ]
    },
    {
      "cell_type": "markdown",
      "metadata": {
        "id": "QFACSf6MY0fr",
        "colab_type": "text"
      },
      "source": [
        "# Write a print statement"
      ]
    },
    {
      "cell_type": "code",
      "metadata": {
        "id": "sVUF69ilVrCy",
        "colab_type": "code",
        "outputId": "393479ad-1b4d-4dad-8bd1-bd277f9ce967",
        "colab": {
          "base_uri": "https://localhost:8080/",
          "height": 35
        }
      },
      "source": [
        "week_number = 11\n",
        "day_number = 1\n",
        "workshop_letter = \"B\"\n",
        "\n",
        "print(\"Welcome to workshop \" + str(week_number) + \".\" + \n",
        "      str(day_number) + \".\" + workshop_letter + \".\")"
      ],
      "execution_count": 4,
      "outputs": [
        {
          "output_type": "stream",
          "text": [
            "Welcome to workshop 11.1.B.\n"
          ],
          "name": "stdout"
        }
      ]
    },
    {
      "cell_type": "markdown",
      "metadata": {
        "id": "lGQ1qcRHY-8b",
        "colab_type": "text"
      },
      "source": [
        "# Indexing a string"
      ]
    },
    {
      "cell_type": "code",
      "metadata": {
        "id": "yQPonjSMlM0R",
        "colab_type": "code",
        "outputId": "7097cdd4-86f9-4c75-b7c1-0d61da8b380b",
        "colab": {
          "base_uri": "https://localhost:8080/",
          "height": 35
        }
      },
      "source": [
        "greeting = 'Hello world!'\n",
        "\n",
        "greeting[5]"
      ],
      "execution_count": 5,
      "outputs": [
        {
          "output_type": "execute_result",
          "data": {
            "text/plain": [
              "' '"
            ]
          },
          "metadata": {
            "tags": []
          },
          "execution_count": 5
        }
      ]
    },
    {
      "cell_type": "markdown",
      "metadata": {
        "id": "e31zACCMZHAQ",
        "colab_type": "text"
      },
      "source": [
        "# What is the result of a function"
      ]
    },
    {
      "cell_type": "code",
      "metadata": {
        "id": "rhVqTHPHZJKE",
        "colab_type": "code",
        "colab": {
          "base_uri": "https://localhost:8080/",
          "height": 35
        },
        "outputId": "5a65105a-e007-4e5d-90d2-78a1bd5debfd"
      },
      "source": [
        "def func(x):\n",
        "  return x - 1\n",
        "\n",
        "print(func(3) * func(5))"
      ],
      "execution_count": 6,
      "outputs": [
        {
          "output_type": "stream",
          "text": [
            "8\n"
          ],
          "name": "stdout"
        }
      ]
    },
    {
      "cell_type": "markdown",
      "metadata": {
        "id": "bV99dbW6ZZ7s",
        "colab_type": "text"
      },
      "source": [
        "# Write function for area of a triangle"
      ]
    },
    {
      "cell_type": "code",
      "metadata": {
        "id": "bRJFyDRl63G3",
        "colab_type": "code",
        "outputId": "b3c63198-12b6-4e5b-8311-f0d0b71696fe",
        "colab": {
          "base_uri": "https://localhost:8080/",
          "height": 35
        }
      },
      "source": [
        "def triangle_area(base, height):\n",
        "  return 1/2 * base * height\n",
        "\n",
        "print(triangle_area(5, 3))"
      ],
      "execution_count": 7,
      "outputs": [
        {
          "output_type": "stream",
          "text": [
            "7.5\n"
          ],
          "name": "stdout"
        }
      ]
    },
    {
      "cell_type": "code",
      "metadata": {
        "id": "dBjkCCtOmPbt",
        "colab_type": "code",
        "colab": {}
      },
      "source": [
        "my_dictionary = {\n",
        "  \"name\": \"You\",\n",
        "  \"program\": \"DAI\",\n",
        "  \"week\": 11,\n",
        "  \"loves_python\": True\n",
        "}"
      ],
      "execution_count": 0,
      "outputs": []
    },
    {
      "cell_type": "code",
      "metadata": {
        "id": "hjPQlyTqmRuU",
        "colab_type": "code",
        "outputId": "75905a2e-d27e-4697-eb7a-c8418bf764cd",
        "colab": {
          "base_uri": "https://localhost:8080/",
          "height": 35
        }
      },
      "source": [
        "print(my_dictionary)"
      ],
      "execution_count": 0,
      "outputs": [
        {
          "output_type": "stream",
          "text": [
            "{'name': 'You', 'program': 'DAI', 'week': 11, 'loves_python': True}\n"
          ],
          "name": "stdout"
        }
      ]
    },
    {
      "cell_type": "code",
      "metadata": {
        "id": "nlnP_Y4WX5cm",
        "colab_type": "code",
        "colab": {}
      },
      "source": [
        "week_number = 11\n",
        "day_number = 1\n",
        "workshop_letter = \"B\""
      ],
      "execution_count": 0,
      "outputs": []
    },
    {
      "cell_type": "code",
      "metadata": {
        "id": "iXY1stXQZNHb",
        "colab_type": "code",
        "outputId": "fcf59840-1c8c-4ac5-a093-d42a10bf4600",
        "colab": {
          "base_uri": "https://localhost:8080/",
          "height": 34
        }
      },
      "source": [
        "print(\"Welcome to workshop \" + str(week_number) + \".\" + \n",
        "      str(day_number) + \".\" + workshop_letter + \".\")"
      ],
      "execution_count": 0,
      "outputs": [
        {
          "output_type": "stream",
          "text": [
            "Welcome to workshop 11.1.B.\n"
          ],
          "name": "stdout"
        }
      ]
    },
    {
      "cell_type": "code",
      "metadata": {
        "id": "ILoubtcBeKOe",
        "colab_type": "code",
        "outputId": "644f0732-561f-4e98-a20a-77209bbefdfe",
        "colab": {
          "base_uri": "https://localhost:8080/",
          "height": 34
        }
      },
      "source": [
        "greeting = 'Hello world!'\n",
        "\n",
        "greeting[5]"
      ],
      "execution_count": 0,
      "outputs": [
        {
          "output_type": "execute_result",
          "data": {
            "text/plain": [
              "' '"
            ]
          },
          "metadata": {
            "tags": []
          },
          "execution_count": 10
        }
      ]
    },
    {
      "cell_type": "code",
      "metadata": {
        "id": "0bmd-EagjJgF",
        "colab_type": "code",
        "outputId": "1318cc4c-db1c-4b86-ebf4-b3e9fe4fbfb3",
        "colab": {
          "base_uri": "https://localhost:8080/",
          "height": 34
        }
      },
      "source": [
        "d = {\"john\":40, \"peter\":45}\n",
        "\n",
        "print(d)"
      ],
      "execution_count": 0,
      "outputs": [
        {
          "output_type": "stream",
          "text": [
            "{'john': 40, 'peter': 45}\n"
          ],
          "name": "stdout"
        }
      ]
    },
    {
      "cell_type": "code",
      "metadata": {
        "id": "m_fMAybE0780",
        "colab_type": "code",
        "outputId": "abc33ffe-a301-48ef-fb04-0f508385f2e1",
        "colab": {
          "base_uri": "https://localhost:8080/",
          "height": 34
        }
      },
      "source": [
        "def func(x):\n",
        "  return x - 1\n",
        "\n",
        "print(func(3) * func(5))"
      ],
      "execution_count": 0,
      "outputs": [
        {
          "output_type": "stream",
          "text": [
            "8\n"
          ],
          "name": "stdout"
        }
      ]
    },
    {
      "cell_type": "code",
      "metadata": {
        "id": "eyKqLjS88bni",
        "colab_type": "code",
        "outputId": "9766d189-a934-4e07-ac81-eb2b682419cd",
        "colab": {
          "base_uri": "https://localhost:8080/",
          "height": 50
        }
      },
      "source": [
        "print(max([1, 2, 3]))\n",
        "print(sum([4, 5, 6]))"
      ],
      "execution_count": 0,
      "outputs": [
        {
          "output_type": "stream",
          "text": [
            "3\n",
            "15\n"
          ],
          "name": "stdout"
        }
      ]
    },
    {
      "cell_type": "code",
      "metadata": {
        "id": "fWL4jma19UqU",
        "colab_type": "code",
        "outputId": "29d935ab-c0fc-4e19-c182-06c0fd6712dc",
        "colab": {
          "base_uri": "https://localhost:8080/",
          "height": 34
        }
      },
      "source": [
        "import math\n",
        "\n",
        "print(math.sqrt(25))"
      ],
      "execution_count": 0,
      "outputs": [
        {
          "output_type": "stream",
          "text": [
            "5.0\n"
          ],
          "name": "stdout"
        }
      ]
    }
  ]
}