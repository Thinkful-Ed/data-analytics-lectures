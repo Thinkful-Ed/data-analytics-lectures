{
  "nbformat": 4,
  "nbformat_minor": 0,
  "metadata": {
    "colab": {
      "name": "11_2_B_solutions",
      "provenance": []
    },
    "kernelspec": {
      "name": "python3",
      "display_name": "Python 3"
    }
  },
  "cells": [
    {
      "cell_type": "markdown",
      "metadata": {
        "id": "K9bddCh04Yso",
        "colab_type": "text"
      },
      "source": [
        "[Solutions file for workshop 11.2.B](https://docs.google.com/presentation/d/12Pigrri-y8C_jt_cPDomIm4RLgWPNYDh2X19syyuGs4/edit#slide=id.g5d1ca39295_0_74)\n",
        "\n",
        "# Count change\n"
      ]
    },
    {
      "cell_type": "code",
      "metadata": {
        "id": "aKq7cLGr4cY4",
        "colab_type": "code",
        "colab": {}
      },
      "source": [
        "def count_change():\n",
        "  # Prompt the user for count of each coin type\n",
        "  print(\"How many pennies do you have?\")\n",
        "  # Convert the inputted amount to numeric!\n",
        "  pennies = float(input())\n",
        "  print(\"How many nickels do you have?\")\n",
        "  nickels = float(input())\n",
        "  print(\"How many dimes do you have?\")\n",
        "  dimes = float(input())\n",
        "  print(\"How many quarters do you have?\")\n",
        "  quarters = float(input())\n",
        "  # Calculate the total amount\n",
        "  money = .01*pennies + .05*nickels + .1*dimes + .25*quarters\n",
        "  # Format in dollars and cents\n",
        "  return('You have $'+format(money,',.2f')+'.')"
      ],
      "execution_count": 0,
      "outputs": []
    },
    {
      "cell_type": "code",
      "metadata": {
        "id": "RbOX8dWa4c6q",
        "colab_type": "code",
        "colab": {}
      },
      "source": [
        "count_change()"
      ],
      "execution_count": 0,
      "outputs": []
    },
    {
      "cell_type": "markdown",
      "metadata": {
        "id": "xj22hH6F5DFc",
        "colab_type": "text"
      },
      "source": [
        "# Comparison operators"
      ]
    },
    {
      "cell_type": "code",
      "metadata": {
        "id": "qhA1OCMcja46",
        "colab_type": "code",
        "outputId": "57702764-5040-4479-a254-e10dd676b5c4",
        "colab": {
          "base_uri": "https://localhost:8080/",
          "height": 162
        }
      },
      "source": [
        "x = 2\n",
        "y = 3\n",
        "\n",
        "print(x > y)\n",
        "print(x < y)\n",
        "print(x == y)\n",
        "print(x != y)\n",
        "print(x >= y)\n",
        "print(x <= y)\n",
        "print(x + y > 2 * x)\n",
        "print(y * x != 4 % 4 + 16)"
      ],
      "execution_count": 0,
      "outputs": [
        {
          "output_type": "stream",
          "text": [
            "False\n",
            "True\n",
            "False\n",
            "True\n",
            "False\n",
            "True\n",
            "True\n",
            "False\n"
          ],
          "name": "stdout"
        }
      ]
    },
    {
      "cell_type": "markdown",
      "metadata": {
        "id": "6NV-LPnL5RbP",
        "colab_type": "text"
      },
      "source": [
        "# Assignment operators"
      ]
    },
    {
      "cell_type": "code",
      "metadata": {
        "id": "VvA5FTZa4HfC",
        "colab_type": "code",
        "outputId": "cb3a37dd-5108-4218-e097-6df742131b5e",
        "colab": {
          "base_uri": "https://localhost:8080/",
          "height": 108
        }
      },
      "source": [
        "a = 6\n",
        "b = 4\n",
        "\n",
        "\n",
        "c = a + b\n",
        "print(c)\n",
        "\n",
        "c += a\n",
        "print(c)\n",
        "\n",
        "c *= b\n",
        "print(c)\n",
        "\n",
        "c //= a\n",
        "print(c)\n",
        "\n",
        "c **= b\n",
        "print(c)"
      ],
      "execution_count": 0,
      "outputs": [
        {
          "output_type": "stream",
          "text": [
            "10\n",
            "16\n",
            "64\n",
            "10\n",
            "10000\n"
          ],
          "name": "stdout"
        }
      ]
    }
  ]
}