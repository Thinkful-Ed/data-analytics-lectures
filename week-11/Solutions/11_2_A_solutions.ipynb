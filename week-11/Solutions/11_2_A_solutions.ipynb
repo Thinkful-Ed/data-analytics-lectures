{
  "nbformat": 4,
  "nbformat_minor": 0,
  "metadata": {
    "colab": {
      "name": "11_2_A_solutions",
      "provenance": [],
      "collapsed_sections": []
    },
    "kernelspec": {
      "name": "python3",
      "display_name": "Python 3"
    }
  },
  "cells": [
    {
      "cell_type": "markdown",
      "metadata": {
        "id": "gfI6FHk5bgZr",
        "colab_type": "text"
      },
      "source": [
        "[Solutions file for workshop 11.2.A](https://docs.google.com/presentation/d/1xOe3ZmdsqYDawi7MM3ww_Zx3zYj_JSMsWzm9Xlp0YNY/edit#slide=id.g5d1ca39295_0_74)\n",
        "\n",
        "# Check for string output"
      ]
    },
    {
      "cell_type": "code",
      "metadata": {
        "id": "GAApyrDlJ3Uo",
        "colab_type": "code",
        "outputId": "26665c36-8b30-4c73-aae8-be4b222fa9a4",
        "colab": {
          "base_uri": "https://localhost:8080/",
          "height": 34
        }
      },
      "source": [
        "\"a\"+\"bc\""
      ],
      "execution_count": 0,
      "outputs": [
        {
          "output_type": "execute_result",
          "data": {
            "text/plain": [
              "'abc'"
            ]
          },
          "metadata": {
            "tags": []
          },
          "execution_count": 5
        }
      ]
    },
    {
      "cell_type": "code",
      "metadata": {
        "id": "FEjGV7IpK8gl",
        "colab_type": "code",
        "outputId": "d65fbb1d-c11b-428a-cbfb-21b9ce589aa7",
        "colab": {
          "base_uri": "https://localhost:8080/",
          "height": 34
        }
      },
      "source": [
        "\"abcd\"[2:]"
      ],
      "execution_count": 0,
      "outputs": [
        {
          "output_type": "execute_result",
          "data": {
            "text/plain": [
              "'cd'"
            ]
          },
          "metadata": {
            "tags": []
          },
          "execution_count": 4
        }
      ]
    },
    {
      "cell_type": "code",
      "metadata": {
        "id": "zK45bzeeLBIR",
        "colab_type": "code",
        "outputId": "16ac2989-de75-4f0a-d36a-aa4c465a4cce",
        "colab": {
          "base_uri": "https://localhost:8080/",
          "height": 50
        }
      },
      "source": [
        "print(\"Hello \\n World!\")"
      ],
      "execution_count": 0,
      "outputs": [
        {
          "output_type": "stream",
          "text": [
            "Hello \n",
            " World!\n"
          ],
          "name": "stdout"
        }
      ]
    },
    {
      "cell_type": "code",
      "metadata": {
        "id": "62wepZQXLY9X",
        "colab_type": "code",
        "outputId": "f02c22c2-94e2-4ca7-adbe-939f982690f0",
        "colab": {
          "base_uri": "https://localhost:8080/",
          "height": 34
        }
      },
      "source": [
        "print(\"Under my umbr\" + \"ella \" * 3 )"
      ],
      "execution_count": 0,
      "outputs": [
        {
          "output_type": "stream",
          "text": [
            "Under my umbrella ella ella \n"
          ],
          "name": "stdout"
        }
      ]
    },
    {
      "cell_type": "markdown",
      "metadata": {
        "id": "wTMnCh5zbp4M",
        "colab_type": "text"
      },
      "source": [
        "# Write a function to check whether two strings are equal"
      ]
    },
    {
      "cell_type": "code",
      "metadata": {
        "id": "IHILz3GidnO-",
        "colab_type": "code",
        "outputId": "332c78b6-5dde-4c21-cd7a-117d542423d5",
        "colab": {
          "base_uri": "https://localhost:8080/",
          "height": 35
        }
      },
      "source": [
        "string_1 = 'Thinkful DAI'\n",
        "string_2 = 'Thinkful Dai'\n",
        "\n",
        "def check_str_equal(string_a, string_b):\n",
        "    return string_a == string_b\n",
        "\n",
        "check_str_equal(string_1, string_2)\n"
      ],
      "execution_count": 1,
      "outputs": [
        {
          "output_type": "execute_result",
          "data": {
            "text/plain": [
              "False"
            ]
          },
          "metadata": {
            "tags": []
          },
          "execution_count": 1
        }
      ]
    },
    {
      "cell_type": "markdown",
      "metadata": {
        "id": "9rBrTuKBbxIU",
        "colab_type": "text"
      },
      "source": [
        "# Write a function to remove all M's"
      ]
    },
    {
      "cell_type": "code",
      "metadata": {
        "id": "SWe_48CjftpI",
        "colab_type": "code",
        "outputId": "5cbc176d-c406-41b3-e89e-2aa62ec08920",
        "colab": {
          "base_uri": "https://localhost:8080/",
          "height": 35
        }
      },
      "source": [
        "def remove_michigan(string):\n",
        "  # This is called method chaining\n",
        "  string = string.replace(\"m\", \"\").replace(\"M\",\"\")\n",
        "  return string\n",
        "\n",
        "string = \"Michigan makes me mad!\"\n",
        "\n",
        "remove_michigan(string)\n"
      ],
      "execution_count": 2,
      "outputs": [
        {
          "output_type": "execute_result",
          "data": {
            "text/plain": [
              "'ichigan akes e ad!'"
            ]
          },
          "metadata": {
            "tags": []
          },
          "execution_count": 2
        }
      ]
    },
    {
      "cell_type": "markdown",
      "metadata": {
        "id": "muIMFhkVb7lG",
        "colab_type": "text"
      },
      "source": [
        "# Practice indexing/slicing strings"
      ]
    },
    {
      "cell_type": "code",
      "metadata": {
        "id": "cMwRhsqtEOws",
        "colab_type": "code",
        "outputId": "0490cf84-c92e-49d1-b251-0ca4fcbb9ed7",
        "colab": {
          "base_uri": "https://localhost:8080/",
          "height": 34
        }
      },
      "source": [
        "\"Thinkful DAI\"[7:10]"
      ],
      "execution_count": 0,
      "outputs": [
        {
          "output_type": "execute_result",
          "data": {
            "text/plain": [
              "'l D'"
            ]
          },
          "metadata": {
            "tags": []
          },
          "execution_count": 14
        }
      ]
    },
    {
      "cell_type": "code",
      "metadata": {
        "id": "uJ0eolW-E73L",
        "colab_type": "code",
        "outputId": "28962e64-0181-4406-e76a-522dbf8a5871",
        "colab": {
          "base_uri": "https://localhost:8080/",
          "height": 34
        }
      },
      "source": [
        "\"Thinkful DAI\"[:-3].upper()"
      ],
      "execution_count": 0,
      "outputs": [
        {
          "output_type": "execute_result",
          "data": {
            "text/plain": [
              "'THINKFUL '"
            ]
          },
          "metadata": {
            "tags": []
          },
          "execution_count": 11
        }
      ]
    },
    {
      "cell_type": "code",
      "metadata": {
        "id": "AmDreHhCEgSH",
        "colab_type": "code",
        "outputId": "d1cc3417-4cf1-48d2-9dd8-6c9737900fb0",
        "colab": {
          "base_uri": "https://localhost:8080/",
          "height": 34
        }
      },
      "source": [
        "\"Thinkful DAI\"[-3:].lower()"
      ],
      "execution_count": 0,
      "outputs": [
        {
          "output_type": "execute_result",
          "data": {
            "text/plain": [
              "'dai'"
            ]
          },
          "metadata": {
            "tags": []
          },
          "execution_count": 10
        }
      ]
    },
    {
      "cell_type": "code",
      "metadata": {
        "id": "PByl2E_eE55r",
        "colab_type": "code",
        "colab": {
          "base_uri": "https://localhost:8080/",
          "height": 35
        },
        "outputId": "ae3e49da-ec34-45a4-8ad8-ce65a9bb4f12"
      },
      "source": [
        "\"Thinkful DAI\".split(sep=' ')"
      ],
      "execution_count": 3,
      "outputs": [
        {
          "output_type": "execute_result",
          "data": {
            "text/plain": [
              "['Thinkful', 'DAI']"
            ]
          },
          "metadata": {
            "tags": []
          },
          "execution_count": 3
        }
      ]
    }
  ]
}