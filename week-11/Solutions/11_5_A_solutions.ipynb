{
  "nbformat": 4,
  "nbformat_minor": 0,
  "metadata": {
    "colab": {
      "name": "11_5_A_solutions",
      "provenance": []
    },
    "kernelspec": {
      "name": "python3",
      "display_name": "Python 3"
    }
  },
  "cells": [
    {
      "cell_type": "markdown",
      "metadata": {
        "id": "yKDcDkxffY8Z",
        "colab_type": "text"
      },
      "source": [
        "[Solutions for workshop 11.5.A](https://docs.google.com/presentation/d/1urMLGQfWxzJOfJPqsGvEiBZKkEOGEZ44jX7hKNB3FQY/edit#slide=id.g5d1ca39295_0_74)\n",
        "\n"
      ]
    },
    {
      "cell_type": "markdown",
      "metadata": {
        "id": "M5rgIe1QS-A6",
        "colab_type": "text"
      },
      "source": [
        "# Dictionary to list of keys, sorted"
      ]
    },
    {
      "cell_type": "code",
      "metadata": {
        "id": "rmOvQlR3dQgy",
        "colab_type": "code",
        "outputId": "07bcd0b4-652b-47a1-eb76-ea9b6430bfde",
        "colab": {
          "base_uri": "https://localhost:8080/",
          "height": 35
        }
      },
      "source": [
        "a_dict = {\"Barry\": 762, \"Hank\": 755, \"Babe\": 714}\n",
        "print(list(sorted(a_dict.keys())))"
      ],
      "execution_count": 0,
      "outputs": [
        {
          "output_type": "stream",
          "text": [
            "['Babe', 'Barry', 'Hank']\n"
          ],
          "name": "stdout"
        }
      ]
    },
    {
      "cell_type": "markdown",
      "metadata": {
        "id": "4mkWx5WFe0Sg",
        "colab_type": "text"
      },
      "source": [
        "# Print key-value pairs in a dictionary"
      ]
    },
    {
      "cell_type": "code",
      "metadata": {
        "id": "8SbYDgX9f4Ob",
        "colab_type": "code",
        "outputId": "2463cceb-1ee0-4b49-e806-eecf82a15cdb",
        "colab": {
          "base_uri": "https://localhost:8080/",
          "height": 71
        }
      },
      "source": [
        "for item in a_dict.items():\n",
        "  print(item)"
      ],
      "execution_count": 0,
      "outputs": [
        {
          "output_type": "stream",
          "text": [
            "('Barry', 762)\n",
            "('Hank', 755)\n",
            "('Babe', 714)\n"
          ],
          "name": "stdout"
        }
      ]
    },
    {
      "cell_type": "markdown",
      "metadata": {
        "id": "M-prVpUTfCY4",
        "colab_type": "text"
      },
      "source": [
        "# Write a function to check for a dictionary key"
      ]
    },
    {
      "cell_type": "code",
      "metadata": {
        "id": "4mUEyUMyMwx2",
        "colab_type": "code",
        "outputId": "82c4ae35-af78-49ce-914b-897d68c66f88",
        "colab": {
          "base_uri": "https://localhost:8080/",
          "height": 53
        }
      },
      "source": [
        "def dictionary_checker(key, dict):\n",
        "  if key in dict:\n",
        "    return \"This key is in the dictionary.\"\n",
        "  else:\n",
        "    return \"This key is not in the dictionary.\"\n",
        "\n",
        "\n",
        "a_dict = {\"Barry\": 762, \"Hank\": 755, \"Babe\": 714}\n",
        "\n",
        "print(dictionary_checker('George', a_dict))\n",
        "print(dictionary_checker('Barry', a_dict))"
      ],
      "execution_count": 0,
      "outputs": [
        {
          "output_type": "stream",
          "text": [
            "This key is not in the dictionary.\n",
            "This key is in the dictionary.\n"
          ],
          "name": "stdout"
        }
      ]
    },
    {
      "cell_type": "markdown",
      "metadata": {
        "id": "KuGBCiJifIGx",
        "colab_type": "text"
      },
      "source": [
        "# Drop a key, add a key"
      ]
    },
    {
      "cell_type": "code",
      "metadata": {
        "id": "hni5tR97hclo",
        "colab_type": "code",
        "outputId": "39e71c5d-a540-4538-c4a1-5ca9eee7e727",
        "colab": {
          "base_uri": "https://localhost:8080/",
          "height": 35
        }
      },
      "source": [
        "a_dict = {\"Barry\": 762, \"Hank\": 755, \"Babe\": 714}\n",
        "\n",
        "del a_dict['Barry']\n",
        "\n",
        "a_dict['Alex'] = 696\n",
        "\n",
        "print(a_dict)"
      ],
      "execution_count": 0,
      "outputs": [
        {
          "output_type": "stream",
          "text": [
            "{'Hank': 755, 'Babe': 714, 'Alex': 696}\n"
          ],
          "name": "stdout"
        }
      ]
    },
    {
      "cell_type": "markdown",
      "metadata": {
        "id": "xhvv7NLdfOKd",
        "colab_type": "text"
      },
      "source": [
        "# New dictionary \"filtered\" from another"
      ]
    },
    {
      "cell_type": "code",
      "metadata": {
        "id": "J_KUnPWPgKHf",
        "colab_type": "code",
        "outputId": "cf4771a7-5f62-4e99-f585-050ac005a6b2",
        "colab": {
          "base_uri": "https://localhost:8080/",
          "height": 35
        }
      },
      "source": [
        "new_dict = {}\n",
        "\n",
        "for key, value in a_dict.items():\n",
        "  if value > 750:\n",
        "    new_dict[key] = value\n",
        "\n",
        "print(new_dict)"
      ],
      "execution_count": 0,
      "outputs": [
        {
          "output_type": "stream",
          "text": [
            "{'Hank': 755}\n"
          ],
          "name": "stdout"
        }
      ]
    },
    {
      "cell_type": "markdown",
      "metadata": {
        "id": "SVUb3RKNfTC8",
        "colab_type": "text"
      },
      "source": [
        "# Sum all dictionary values"
      ]
    },
    {
      "cell_type": "code",
      "metadata": {
        "id": "mAeR-siEgjim",
        "colab_type": "code",
        "outputId": "e3d6e087-47a0-4d1f-f320-110d986dc288",
        "colab": {
          "base_uri": "https://localhost:8080/",
          "height": 35
        }
      },
      "source": [
        "a_dict = {\"Barry\": 762, \"Hank\": 755, \"Babe\": 714}\n",
        "\n",
        "total_homers = 0\n",
        "\n",
        "for value in a_dict.values():\n",
        "  total_homers += value\n",
        "\n",
        "print(total_homers)"
      ],
      "execution_count": 0,
      "outputs": [
        {
          "output_type": "stream",
          "text": [
            "2231\n"
          ],
          "name": "stdout"
        }
      ]
    }
  ]
}