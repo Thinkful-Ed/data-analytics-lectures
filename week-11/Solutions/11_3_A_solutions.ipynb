{
  "nbformat": 4,
  "nbformat_minor": 0,
  "metadata": {
    "colab": {
      "name": "11-3-A-solutions",
      "provenance": []
    },
    "kernelspec": {
      "name": "python3",
      "display_name": "Python 3"
    }
  },
  "cells": [
    {
      "cell_type": "markdown",
      "metadata": {
        "id": "aoSY8uivGQSn",
        "colab_type": "text"
      },
      "source": [
        "[Solutions for workshop 11.3.A](https://docs.google.com/presentation/d/1WC7c8SThXPpox3btJ6LQeF_FO0WrcKZYsKfK6fY3hnY/edit#slide=id.g5d1ca39295_0_74)\n",
        "\n",
        "# Warm up: check if temp is greater than 32 degrees"
      ]
    },
    {
      "cell_type": "code",
      "metadata": {
        "id": "Edpyv6OBIJp5",
        "colab_type": "code",
        "outputId": "e2e53fe2-3d01-413f-b7af-ae7a05159875",
        "colab": {
          "base_uri": "https://localhost:8080/",
          "height": 35
        }
      },
      "source": [
        "temp = 45\n",
        "\n",
        "if temp > 32:\n",
        "  print(\"It's not freezing\")\n",
        "else:\n",
        "  print(\"It's freezing\")\n",
        "  \n"
      ],
      "execution_count": 0,
      "outputs": [
        {
          "output_type": "stream",
          "text": [
            "It's not freezing\n"
          ],
          "name": "stdout"
        }
      ]
    },
    {
      "cell_type": "markdown",
      "metadata": {
        "id": "KAhrvJ9UacyX",
        "colab_type": "text"
      },
      "source": [
        "# Boiling guppies"
      ]
    },
    {
      "cell_type": "code",
      "metadata": {
        "id": "TNquFub9GQrQ",
        "colab_type": "code",
        "outputId": "5e8e55c1-b75b-469a-de7e-9c6edf7ffdb0",
        "colab": {
          "base_uri": "https://localhost:8080/",
          "height": 71
        }
      },
      "source": [
        "def boiling_guppies(temp):\n",
        "  if temp < 72:\n",
        "    return \"Your guppies are going to freeze!\"\n",
        "  elif temp > 86:\n",
        "    return \"Your guppies are going to boil!\"\n",
        "  else:\n",
        "    return \"Your guppies are okay\"\n",
        "\n",
        "print(boiling_guppies(32))\n",
        "print(boiling_guppies(100))\n",
        "print(boiling_guppies(75))\n",
        "  "
      ],
      "execution_count": 0,
      "outputs": [
        {
          "output_type": "stream",
          "text": [
            "Your guppies are going to freeze!\n",
            "Your guppies are going to boil!\n",
            "Your guppies are okay\n"
          ],
          "name": "stdout"
        }
      ]
    },
    {
      "cell_type": "markdown",
      "metadata": {
        "id": "voTgWKK0ahLd",
        "colab_type": "text"
      },
      "source": [
        "# Check for square root"
      ]
    },
    {
      "cell_type": "code",
      "metadata": {
        "id": "TYMm0iJoduXE",
        "colab_type": "code",
        "colab": {
          "base_uri": "https://localhost:8080/",
          "height": 373
        },
        "outputId": "29d3c5bb-4820-445f-9b84-ab3f045c42e1"
      },
      "source": [
        "def  basic_exception(number):\n",
        "\ttry :\n",
        "\t\treturn(\"Half of this number is \" + str(number / 2))\n",
        "\texcept OSError:\n",
        "\t\treturn \"Not a valid number\"\n",
        "\n",
        "print(basic_exception(25))\n",
        "print(basic_exception(-25))\n",
        "print(basic_exception(\"cheddar\"))"
      ],
      "execution_count": 1,
      "outputs": [
        {
          "output_type": "stream",
          "text": [
            "Half of this number is 12.5\n",
            "Half of this number is -12.5\n"
          ],
          "name": "stdout"
        },
        {
          "output_type": "error",
          "ename": "TypeError",
          "evalue": "ignored",
          "traceback": [
            "\u001b[0;31m---------------------------------------------------------------------------\u001b[0m",
            "\u001b[0;31mTypeError\u001b[0m                                 Traceback (most recent call last)",
            "\u001b[0;32m<ipython-input-1-97df85f86971>\u001b[0m in \u001b[0;36m<module>\u001b[0;34m()\u001b[0m\n\u001b[1;32m      7\u001b[0m \u001b[0mprint\u001b[0m\u001b[0;34m(\u001b[0m\u001b[0mbasic_exception\u001b[0m\u001b[0;34m(\u001b[0m\u001b[0;36m25\u001b[0m\u001b[0;34m)\u001b[0m\u001b[0;34m)\u001b[0m\u001b[0;34m\u001b[0m\u001b[0;34m\u001b[0m\u001b[0m\n\u001b[1;32m      8\u001b[0m \u001b[0mprint\u001b[0m\u001b[0;34m(\u001b[0m\u001b[0mbasic_exception\u001b[0m\u001b[0;34m(\u001b[0m\u001b[0;34m-\u001b[0m\u001b[0;36m25\u001b[0m\u001b[0;34m)\u001b[0m\u001b[0;34m)\u001b[0m\u001b[0;34m\u001b[0m\u001b[0;34m\u001b[0m\u001b[0m\n\u001b[0;32m----> 9\u001b[0;31m \u001b[0mprint\u001b[0m\u001b[0;34m(\u001b[0m\u001b[0mbasic_exception\u001b[0m\u001b[0;34m(\u001b[0m\u001b[0;34m\"cheddar\"\u001b[0m\u001b[0;34m)\u001b[0m\u001b[0;34m)\u001b[0m\u001b[0;34m\u001b[0m\u001b[0;34m\u001b[0m\u001b[0m\n\u001b[0m",
            "\u001b[0;32m<ipython-input-1-97df85f86971>\u001b[0m in \u001b[0;36mbasic_exception\u001b[0;34m(number)\u001b[0m\n\u001b[1;32m      1\u001b[0m \u001b[0;32mdef\u001b[0m  \u001b[0mbasic_exception\u001b[0m\u001b[0;34m(\u001b[0m\u001b[0mnumber\u001b[0m\u001b[0;34m)\u001b[0m\u001b[0;34m:\u001b[0m\u001b[0;34m\u001b[0m\u001b[0;34m\u001b[0m\u001b[0m\n\u001b[1;32m      2\u001b[0m         \u001b[0;32mtry\u001b[0m \u001b[0;34m:\u001b[0m\u001b[0;34m\u001b[0m\u001b[0;34m\u001b[0m\u001b[0m\n\u001b[0;32m----> 3\u001b[0;31m                 \u001b[0;32mreturn\u001b[0m\u001b[0;34m(\u001b[0m\u001b[0;34m\"Half of this number is \"\u001b[0m \u001b[0;34m+\u001b[0m \u001b[0mstr\u001b[0m\u001b[0;34m(\u001b[0m\u001b[0mnumber\u001b[0m \u001b[0;34m/\u001b[0m \u001b[0;36m2\u001b[0m\u001b[0;34m)\u001b[0m\u001b[0;34m)\u001b[0m\u001b[0;34m\u001b[0m\u001b[0;34m\u001b[0m\u001b[0m\n\u001b[0m\u001b[1;32m      4\u001b[0m         \u001b[0;32mexcept\u001b[0m \u001b[0mOSError\u001b[0m\u001b[0;34m:\u001b[0m\u001b[0;34m\u001b[0m\u001b[0;34m\u001b[0m\u001b[0m\n\u001b[1;32m      5\u001b[0m                 \u001b[0;32mreturn\u001b[0m \u001b[0;34m\"Not a valid number\"\u001b[0m\u001b[0;34m\u001b[0m\u001b[0;34m\u001b[0m\u001b[0m\n",
            "\u001b[0;31mTypeError\u001b[0m: unsupported operand type(s) for /: 'str' and 'int'"
          ]
        }
      ]
    },
    {
      "cell_type": "code",
      "metadata": {
        "id": "Ng6OAih7h_oK",
        "colab_type": "code",
        "outputId": "1cc6b79b-7e2d-4127-d0f7-7503d1280d7a",
        "colab": {
          "base_uri": "https://localhost:8080/",
          "height": 71
        }
      },
      "source": [
        "def basic_exception(number):\n",
        "  import math\n",
        "  try:\n",
        "    return(\"Half of this number is \" + str(math.sqrt(number)))\n",
        "  except:\n",
        "    return \"Invalid square root calculation\"\n",
        "\n",
        "\n",
        "print(basic_exception(25))\n",
        "print(basic_exception(-25))\n",
        "print(basic_exception(\"cheddar\"))"
      ],
      "execution_count": 3,
      "outputs": [
        {
          "output_type": "stream",
          "text": [
            "Half of this number is 5.0\n",
            "Invalid square root calculation\n",
            "Invalid square root calculation\n"
          ],
          "name": "stdout"
        }
      ]
    },
    {
      "cell_type": "markdown",
      "metadata": {
        "id": "1vloKdEuMjFq",
        "colab_type": "text"
      },
      "source": [
        "# Calculate payroll"
      ]
    },
    {
      "cell_type": "code",
      "metadata": {
        "id": "0dZgPWKBMlvP",
        "colab_type": "code",
        "outputId": "bb1d5cdd-dafc-4238-a91e-775686a692cf",
        "colab": {
          "base_uri": "https://localhost:8080/",
          "height": 53
        }
      },
      "source": [
        "def weekly_wage(totalHours, hourlyWage):  \n",
        "    # No overtime if under 40 hours\n",
        "    if totalHours <= 40:\n",
        "        regularHours = totalHours\n",
        "        overtime = 0\n",
        "    else:\n",
        "        overtime = totalHours - 40\n",
        "        regularHours = 40\n",
        "    # Pay time and a half for hours over forty \n",
        "    return hourlyWage*regularHours + (1.5*hourlyWage)*overtime\n",
        "\n",
        "\n",
        "print(weekly_wage(40, 15))\n",
        "print(weekly_wage(41, 15))\n"
      ],
      "execution_count": 0,
      "outputs": [
        {
          "output_type": "stream",
          "text": [
            "600.0\n",
            "622.5\n"
          ],
          "name": "stdout"
        }
      ]
    },
    {
      "cell_type": "markdown",
      "metadata": {
        "id": "j1lVIMZx9Ekp",
        "colab_type": "text"
      },
      "source": [
        "# Bill calculator"
      ]
    },
    {
      "cell_type": "code",
      "metadata": {
        "id": "-jf1A2VSAhOo",
        "colab_type": "code",
        "outputId": "1ce705f2-a4ee-4721-d7e5-9c26901c3630",
        "colab": {
          "base_uri": "https://localhost:8080/",
          "height": 108
        }
      },
      "source": [
        "def tip_calculator(check, tip_pct):\n",
        "  total = check + (check * tip_pct) \n",
        "  if tip_pct < .15:\n",
        "      return \"Total tip: \" + str(check * tip_pct) + \\\n",
        "      \". \\nTotal bill: \" + str(total) + \\\n",
        "      \". \\nWould you like to add more to your tip?\"\n",
        "  else:\n",
        "    return \"Total tip: \" + str(check * tip_pct)+ \\\n",
        "    \". \\nTotal bill: \" + str(total) \n",
        "\n",
        "print(tip_calculator(15, .14))\n",
        "\n",
        "print(tip_calculator(15, .20))\n"
      ],
      "execution_count": 0,
      "outputs": [
        {
          "output_type": "stream",
          "text": [
            "Total tip: 2.1. \n",
            "Total bill: 17.1. \n",
            "Would you like to add more to your tip?\n",
            "Total tip: 3.0. \n",
            "Total bill: 18.0\n"
          ],
          "name": "stdout"
        }
      ]
    }
  ]
}