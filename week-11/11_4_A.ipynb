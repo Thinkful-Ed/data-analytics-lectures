{
 "cells": [
  {
   "cell_type": "markdown",
   "metadata": {},
   "source": [
    "# 11.4.A Lists"
   ]
  },
  {
   "cell_type": "markdown",
   "metadata": {},
   "source": [
    "### Warm-up\n",
    "\n",
    "Given the below list, what are the results of these lines of code:\n",
    "\n",
    "```\n",
    "my_list[1:3]\n",
    "my_list[0][1:]\n",
    "my_list[4][2]\n",
    "my_list[-2:]\n",
    "```\n",
    "\n",
    "Try and think through what will happen, and then run the code to see if you were right."
   ]
  },
  {
   "cell_type": "code",
   "execution_count": null,
   "metadata": {},
   "outputs": [],
   "source": [
    "my_list = [\n",
    "    \"Thinkful\",\n",
    "    \"Data\",\n",
    "    \"Analytics\",\n",
    "    [\"The\", \"Best\"],\n",
    "    [\"Immersive\", 12, \"Weeks\"],\n",
    "    \"Program\",\n",
    "]"
   ]
  },
  {
   "cell_type": "code",
   "execution_count": null,
   "metadata": {},
   "outputs": [],
   "source": []
  },
  {
   "cell_type": "markdown",
   "metadata": {},
   "source": [
    "### Practice 1\n",
    "\n",
    "Change 3rd item in the below `grocery` list be `\"pretzels\"`.  Do not redefine the entire list, change just the 3rd item."
   ]
  },
  {
   "cell_type": "code",
   "execution_count": null,
   "metadata": {},
   "outputs": [],
   "source": [
    "grocery = [\"milk\", \"eggs\", \"bread\", \"cheese\", \"pasta\", \"ice cream\"]"
   ]
  },
  {
   "cell_type": "code",
   "execution_count": null,
   "metadata": {},
   "outputs": [],
   "source": []
  },
  {
   "cell_type": "code",
   "execution_count": null,
   "metadata": {},
   "outputs": [],
   "source": [
    "print(grocery)"
   ]
  },
  {
   "cell_type": "code",
   "execution_count": null,
   "metadata": {},
   "outputs": [],
   "source": [
    "grocery == [\"milk\", \"eggs\", \"pretzels\", \"cheese\", \"pasta\", \"ice cream\"]"
   ]
  },
  {
   "cell_type": "markdown",
   "metadata": {},
   "source": [
    "### Practice 2\n",
    "\n",
    "* Write code to `count` how many `A`s there are in the below `grades` list.\n",
    "* Write a check to see if you got the right answer (the right answer is 2)."
   ]
  },
  {
   "cell_type": "code",
   "execution_count": null,
   "metadata": {},
   "outputs": [],
   "source": [
    "grades = [\"A\", \"C\", \"B\", \"D\", \"D\", \"A\", \"B\", \"F\", \"C\"]"
   ]
  },
  {
   "cell_type": "code",
   "execution_count": null,
   "metadata": {},
   "outputs": [],
   "source": [
    "# Count number of As\n",
    "number_of_as _______"
   ]
  },
  {
   "cell_type": "code",
   "execution_count": null,
   "metadata": {},
   "outputs": [],
   "source": [
    "# Check if your answer is correct\n",
    "number_of_as _______"
   ]
  },
  {
   "cell_type": "markdown",
   "metadata": {},
   "source": [
    "### Practice 3\n",
    "\n",
    "Write a function to find Waldo!\n",
    "* Given a list, `return` the position number of the first occurrence of Waldo in the list. \n",
    "* If Waldo is not found in the list, `return` “You haven’t found Waldo.”\n",
    "\n",
    "\n",
    "#### Thought process for planning this function:\n",
    "* What are the inputs?\n",
    "* What should be the output?\n",
    "* What are the steps we need to take to reach the output?  (aka what is the process?)\n",
    "   \n",
    "  \n",
    "Function template:\n",
    "\n",
    "```python\n",
    "def function_name(inputs):\n",
    "    process\n",
    "    return output\n",
    "```\n",
    "\n",
    "* We need to fill in:\n",
    "  * `function_name`\n",
    "  * `inputs`\n",
    "  * `process`\n",
    "  * `output`"
   ]
  },
  {
   "cell_type": "code",
   "execution_count": null,
   "metadata": {},
   "outputs": [],
   "source": []
  },
  {
   "cell_type": "markdown",
   "metadata": {},
   "source": [
    "### Practice 4\n",
    "\n",
    "Write a function to print each item in a list in upper case.\n",
    "\n",
    "#### Thought process for planning this function:\n",
    "* What are the inputs?\n",
    "* What should be the output?\n",
    "* What are the steps we need to take to reach the output?"
   ]
  },
  {
   "cell_type": "code",
   "execution_count": null,
   "metadata": {},
   "outputs": [],
   "source": [
    "# The process\n",
    "my_list = [\"dont\", \"stop\", \"believing\"]\n",
    "\n",
    "# Forget about having a list of strings,\n",
    "# if we had a single string, how could we\n",
    "# print it out in upper case?\n",
    "\n",
    "# pretend we only have one item by taking the first\n",
    "item = my_list[0]\n",
    "\n",
    "# print out the item in all caps\n",
    "print(item.upper())"
   ]
  },
  {
   "cell_type": "code",
   "execution_count": null,
   "metadata": {},
   "outputs": [],
   "source": [
    "# To apply that process to every item in the list,\n",
    "# we can convert the above code to a for loop.\n",
    "\n",
    "# To convert we can start with the old process\n",
    "item = my_list[0]\n",
    "print(item.upper())"
   ]
  },
  {
   "cell_type": "code",
   "execution_count": null,
   "metadata": {},
   "outputs": [],
   "source": [
    "# We put a `for` in front, replace the assign with `in`,\n",
    "# replace the `[0]` with `:`, and finally we tab\n",
    "# over the rest of the code\n",
    "for item in my_list:\n",
    "    print(item.upper())"
   ]
  },
  {
   "cell_type": "code",
   "execution_count": null,
   "metadata": {},
   "outputs": [],
   "source": [
    "# Wrap up the for loop in a function and call it on a list input\n"
   ]
  },
  {
   "cell_type": "markdown",
   "metadata": {},
   "source": [
    "### Practice 5\n",
    "\n",
    "Write a function to count down from a given number to 1, ending with BLAST OFF! \n",
    "\n",
    "#### Thought process for planning this function?"
   ]
  },
  {
   "cell_type": "code",
   "execution_count": null,
   "metadata": {},
   "outputs": [],
   "source": []
  },
  {
   "cell_type": "markdown",
   "metadata": {},
   "source": [
    "### Practice 6\n",
    "\n",
    "Write a function to count up from 1 to some number X, ending with the statement, “Counted to X.”\n",
    "\n",
    "#### Thought process for planning this function?"
   ]
  },
  {
   "cell_type": "markdown",
   "metadata": {},
   "source": [
    "----\n",
    "\n",
    "There are multiple ways to do this function's process.  One way might be to use a `while` loop, and 'increment' (add 1 to) a counter.  Another way might be to use a `for` loop and the `range` function."
   ]
  },
  {
   "cell_type": "code",
   "execution_count": null,
   "metadata": {},
   "outputs": [],
   "source": [
    "# range allows us to count from a number to another\n",
    "# remember, python starts counting from 0\n",
    "for i in range(3):\n",
    "    print(i)\n",
    "\n",
    "# people typically use i when counting up in a loop\n",
    "# a single time through a loop is often called an iteration\n",
    "# 'i' can be thought of as an abbrevation of iteration or index"
   ]
  },
  {
   "cell_type": "code",
   "execution_count": null,
   "metadata": {},
   "outputs": [],
   "source": []
  }
 ],
 "metadata": {
  "kernelspec": {
   "display_name": "Python 3",
   "language": "python",
   "name": "python3"
  },
  "language_info": {
   "codemirror_mode": {
    "name": "ipython",
    "version": 3
   },
   "file_extension": ".py",
   "mimetype": "text/x-python",
   "name": "python",
   "nbconvert_exporter": "python",
   "pygments_lexer": "ipython3",
   "version": "3.7.7"
  }
 },
 "nbformat": 4,
 "nbformat_minor": 2
}
