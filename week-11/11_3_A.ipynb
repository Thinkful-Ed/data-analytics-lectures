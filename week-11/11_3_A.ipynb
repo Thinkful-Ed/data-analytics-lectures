{
 "cells": [
  {
   "cell_type": "markdown",
   "metadata": {},
   "source": [
    "# 11.3.A Conditional Logic"
   ]
  },
  {
   "cell_type": "code",
   "execution_count": null,
   "metadata": {},
   "outputs": [],
   "source": [
    "# Modules that will be used in this notebook:\n",
    "import math"
   ]
  },
  {
   "cell_type": "markdown",
   "metadata": {},
   "source": [
    "### Warm-up\n",
    "\n",
    "Given a numeric variable `temp`, write an `if` statement to check whether `temp` is greater than 32.\n",
    "\n",
    "* If `temp` is above 32, `return` \"It’s not freezing.\"\n",
    "* If `temp` is not above 32, `return` \"It’s freezing.\"\n",
    "* Convert this check into a function."
   ]
  },
  {
   "cell_type": "code",
   "execution_count": null,
   "metadata": {},
   "outputs": [],
   "source": []
  },
  {
   "cell_type": "markdown",
   "metadata": {},
   "source": [
    "### Practice 1\n",
    "\n",
    "The acceptable range for guppies is between 72 and 86 degrees. \n",
    "\n",
    "Write a function to check for a temperature:\n",
    "* If it’s below 72 degrees, `return` “Your guppies are going to freeze!”\n",
    "* If it’s above 86 degrees, `return` “Your guppies are going to boil!” \n",
    "* Otherwise, `return` “Your guppies will be okay.” \n",
    "\n",
    "\n",
    "#### Thought process for planning this function:\n",
    "* What are the inputs?\n",
    "  * temperature, lets call it: `temp`\n",
    "* What should be the output?\n",
    "  * a string indicating how `temp` will affect our guppies\n",
    "* What are the steps we need to take to reach the output?  (aka what is the process?)\n",
    "   1. Check if temp is less than 72, if it is, `return` the related statement\n",
    "   2. Check if temp is greater than 86, if it is, `return` the related statement\n",
    "   3. If temp is not either of the above 2 conditions, `return` the related okay statement\n",
    "   \n",
    "  \n",
    "Function template:\n",
    "\n",
    "```python\n",
    "def function_name(inputs):\n",
    "    process\n",
    "    return output\n",
    "```\n",
    "\n",
    "* We need to fill in:\n",
    "  * `function_name`\n",
    "  * `inputs`\n",
    "  * `process`\n",
    "  * `output`"
   ]
  },
  {
   "cell_type": "code",
   "execution_count": null,
   "metadata": {},
   "outputs": [],
   "source": [
    "def check_guppy_temp(temp):\n",
    "    if temp ____:\n",
    "        return \"Your guppies are going to freeze!\"\n",
    "    ____:\n",
    "        return \"Your guppies are going to boil!\"\n",
    "    ____:\n",
    "        return \"Your guppies will be okay.\""
   ]
  },
  {
   "cell_type": "code",
   "execution_count": null,
   "metadata": {},
   "outputs": [],
   "source": [
    "check_guppy_temp(32)"
   ]
  },
  {
   "cell_type": "code",
   "execution_count": null,
   "metadata": {},
   "outputs": [],
   "source": [
    "check_guppy_temp(100)"
   ]
  },
  {
   "cell_type": "code",
   "execution_count": null,
   "metadata": {},
   "outputs": [],
   "source": [
    "check_guppy_temp(75)"
   ]
  },
  {
   "cell_type": "markdown",
   "metadata": {},
   "source": [
    "### Practice 2\n",
    "\n",
    "Write a function to take the square root of a number.\n",
    "* If there is an issue, return \"invalid sqrt\".\n",
    "* Name the function `try_sqrt`\n",
    "\n",
    "#### Thought process for planning this function:\n",
    "* What are the inputs?\n",
    "* What should be the output?\n",
    "* What are the steps we need to take to reach the output?\n",
    "   1. `try` to `return` the sqrt of the input number\n",
    "   2. when `try`ing that fails, `return` the related statement"
   ]
  },
  {
   "cell_type": "code",
   "execution_count": null,
   "metadata": {},
   "outputs": [],
   "source": [
    "# Example taking sqrt of a number\n",
    "math.sqrt(4)"
   ]
  },
  {
   "cell_type": "code",
   "execution_count": null,
   "metadata": {},
   "outputs": [],
   "source": [
    "# Example of an invalid attempt at taking sqrt\n",
    "math.sqrt(-4)"
   ]
  },
  {
   "cell_type": "code",
   "execution_count": null,
   "metadata": {},
   "outputs": [],
   "source": [
    "# Example of using try/except\n",
    "try:\n",
    "    # Code that we think has a chance of running into an error\n",
    "    output = 1 + \"1\"\n",
    "except:\n",
    "    # If the code in the `try` fails, run this instead\n",
    "    output = \"i cant do that\"\n",
    "\n",
    "output"
   ]
  },
  {
   "cell_type": "code",
   "execution_count": null,
   "metadata": {},
   "outputs": [],
   "source": []
  },
  {
   "cell_type": "code",
   "execution_count": null,
   "metadata": {},
   "outputs": [],
   "source": [
    "# Test cases\n",
    "# Should be 5.0\n",
    "try_sqrt(25)"
   ]
  },
  {
   "cell_type": "code",
   "execution_count": null,
   "metadata": {},
   "outputs": [],
   "source": [
    "# Should be invalid\n",
    "try_sqrt(-25)"
   ]
  },
  {
   "cell_type": "code",
   "execution_count": null,
   "metadata": {},
   "outputs": [],
   "source": [
    "# Should be invalid\n",
    "try_sqrt('dai')"
   ]
  },
  {
   "cell_type": "markdown",
   "metadata": {},
   "source": [
    "### Practice 3\n",
    "\n",
    "Write a function that:\n",
    "* Calculates total pay given the total hours worked and a hourly wage.\n",
    "* Any number of hours worked over 40 are to be paid at 1.5 times the regular hourly rate. \n",
    "\n",
    "#### Thought process for planning this function:\n",
    "* What are the inputs?\n",
    "* What should be the output?\n",
    "* What are the steps we need to take to reach the output?\n",
    "   1. Find out how many of the hours are overtime\n",
    "     * Find out `if` \\_\\_\\_\\_\\_ \\_\\_\\_\\_\\_ \\_\\_ \\_\\_\\_\\_ \\_\\_\n",
    "     * Define `regular_hours` and `overtime_hours`\n",
    "   3. Calculate `regular_pay` using: `hourly_wage` \\_ `regular_hours`\n",
    "   4. Calculate `overtime_pay` using: \\_\\_\\_ \\_ \\_\\_\\_\\_\\_\\_\\_\\_\\_\\_\\_ \\_ \\_\\_\\_\\_\\_\\_\\_\\_\\_\\_\\_\\_\\_\\_\n",
    "   5. Calculate total"
   ]
  },
  {
   "cell_type": "code",
   "execution_count": null,
   "metadata": {},
   "outputs": [],
   "source": []
  },
  {
   "cell_type": "code",
   "execution_count": null,
   "metadata": {},
   "outputs": [],
   "source": [
    "# Test cases\n",
    "# Should be 600.0\n",
    "weekly_wage(40, 15)"
   ]
  },
  {
   "cell_type": "code",
   "execution_count": null,
   "metadata": {},
   "outputs": [],
   "source": [
    "# Should be 622.5\n",
    "weekly_wage(41, 15)"
   ]
  },
  {
   "cell_type": "markdown",
   "metadata": {},
   "source": [
    "### Practice 4"
   ]
  },
  {
   "cell_type": "markdown",
   "metadata": {},
   "source": [
    "Write a function that: \n",
    "* Accepts a restaurant bill amount and a tip percentage.\n",
    "* Prints out the tip amount\n",
    "* Prints out the total bill with tip included\n",
    "* Prints a statement asking if the user wants to leave more tip if the tip is less than 15%\n",
    "  * *Bonus*: Instead of always using 15%, add a parameter to the function to let the user to decide what the minimum tip should be.  Default this parameter to 15%.\n",
    "  \n",
    "\n",
    "#### Thought process for planning this function:\n",
    "* What are the inputs?\n",
    "* What should be the output?\n",
    "* What are the steps we need to take to reach the output?"
   ]
  },
  {
   "cell_type": "code",
   "execution_count": null,
   "metadata": {},
   "outputs": [],
   "source": []
  }
 ],
 "metadata": {
  "kernelspec": {
   "display_name": "Python 3",
   "language": "python",
   "name": "python3"
  },
  "language_info": {
   "codemirror_mode": {
    "name": "ipython",
    "version": 3
   },
   "file_extension": ".py",
   "mimetype": "text/x-python",
   "name": "python",
   "nbconvert_exporter": "python",
   "pygments_lexer": "ipython3",
   "version": "3.7.7"
  }
 },
 "nbformat": 4,
 "nbformat_minor": 2
}
