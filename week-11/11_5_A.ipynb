{
 "cells": [
  {
   "cell_type": "markdown",
   "metadata": {},
   "source": [
    "# 11.5.A Dictionaries"
   ]
  },
  {
   "cell_type": "markdown",
   "metadata": {},
   "source": [
    "## Pre-warm-up"
   ]
  },
  {
   "cell_type": "markdown",
   "metadata": {},
   "source": [
    "### Dictionary Overview"
   ]
  },
  {
   "cell_type": "markdown",
   "metadata": {},
   "source": [
    "Dictionaries are a key-value way to store with data.  An example of a key-value system in real is multiple choice questions.  \n",
    "\n",
    "1. What is $0.1+0.2$?\n",
    "  \n",
    "&emsp; &emsp; &emsp; (A) &emsp; &emsp; 0.3\n",
    "\n",
    "&emsp; &emsp; &emsp; (B) &emsp; &emsp; 3.50\n",
    "\n",
    "&emsp; &emsp; &emsp; (C) &emsp; &emsp; 0.30000000000000004\n",
    "\n",
    "&emsp; &emsp; &emsp; (D) &emsp; &emsp; ¯\\\\_(ツ)_/¯\n",
    "  \n",
    "\n",
    "When we submit our answer we might say that the answer is \"A\" but what we really mean is that we think that the answer is `0.3`.  In this example, \"A\" is the 'key' and `0.3` is the 'value'.  If we wanted to write these multiple choice options as a dictionary we could use:"
   ]
  },
  {
   "cell_type": "code",
   "execution_count": null,
   "metadata": {},
   "outputs": [],
   "source": [
    "# The structure of a dictionary is {key: value}\n",
    "answers = ______\n",
    "answers"
   ]
  },
  {
   "cell_type": "markdown",
   "metadata": {},
   "source": [
    "Note, in these examples, we stick to only have a more simple \"flat\" dictionary.  We can in theory have more complicated structures."
   ]
  },
  {
   "cell_type": "code",
   "execution_count": null,
   "metadata": {},
   "outputs": [],
   "source": [
    "# This is possible to do... but its hard to look at, remember `import this`\n",
    "# Beautiful is better than ugly.\n",
    "# Simple is better than complex.\n",
    "{\n",
    "    13243: {\"a\": [0, 0, 3, 3], 20: \"asf\"},\n",
    "    \"abc\": False,\n",
    "    -1: [{\"...\": \"......\"}],\n",
    "    (0, 0, 0): 1,\n",
    "}"
   ]
  },
  {
   "cell_type": "markdown",
   "metadata": {},
   "source": [
    "### Accessing dictionary values "
   ]
  },
  {
   "cell_type": "markdown",
   "metadata": {},
   "source": [
    "If we want to access a value in the dictionary, we can use its key.  For example, we said that we answered 'A', to look up what value 'A' corresponds to we can use:"
   ]
  },
  {
   "cell_type": "code",
   "execution_count": null,
   "metadata": {},
   "outputs": [],
   "source": [
    "____"
   ]
  },
  {
   "cell_type": "code",
   "execution_count": null,
   "metadata": {},
   "outputs": [],
   "source": [
    "# Note that keys are case sensitive\n",
    "answers[\"a\"]"
   ]
  },
  {
   "cell_type": "markdown",
   "metadata": {},
   "source": [
    "### Accessing keys, values, and items"
   ]
  },
  {
   "cell_type": "markdown",
   "metadata": {},
   "source": [
    "#### How to"
   ]
  },
  {
   "cell_type": "markdown",
   "metadata": {},
   "source": [
    "If we wanted to see all of the possible keys we can use the `.keys()` method of a `dict`:"
   ]
  },
  {
   "cell_type": "code",
   "execution_count": null,
   "metadata": {},
   "outputs": [],
   "source": [
    "____"
   ]
  },
  {
   "cell_type": "code",
   "execution_count": null,
   "metadata": {},
   "outputs": [],
   "source": [
    "# We can use list() to convert the output to a list\n",
    "____"
   ]
  },
  {
   "cell_type": "markdown",
   "metadata": {},
   "source": [
    "If we wanted to see all of the possible values we can use the `.values()` method of a `dict`:"
   ]
  },
  {
   "cell_type": "code",
   "execution_count": null,
   "metadata": {},
   "outputs": [],
   "source": [
    "____"
   ]
  },
  {
   "cell_type": "markdown",
   "metadata": {},
   "source": [
    "Sometimes, we want to get both the keys and the values at the same time.  To access both the keys and values at once we can use the `.items()` method of a `dict`:"
   ]
  },
  {
   "cell_type": "code",
   "execution_count": null,
   "metadata": {},
   "outputs": [],
   "source": [
    "____"
   ]
  },
  {
   "cell_type": "markdown",
   "metadata": {},
   "source": [
    "#### How they can be used"
   ]
  },
  {
   "cell_type": "markdown",
   "metadata": {},
   "source": [
    "These keys, values, or items might be used with a loop or something like `.join()`:"
   ]
  },
  {
   "cell_type": "code",
   "execution_count": null,
   "metadata": {},
   "outputs": [],
   "source": [
    "# Maybe we want to format the keys somehow\n",
    "print(\"Please circle an answer:\")\n",
    "\n",
    "# Use join to output \"A | B | C | D\"\n",
    "\" | \"._____"
   ]
  },
  {
   "cell_type": "code",
   "execution_count": null,
   "metadata": {},
   "outputs": [],
   "source": [
    "# Maybe we want to do something with the answers\n",
    "correct_answer = 0.1 + 0.2\n",
    "\n",
    "# Loop over the values of the dict\n",
    "for v in ____:\n",
    "    # Check if the current value is equal to the correct answer\n",
    "    ____:\n",
    "        print(f\"{v} is correct according to python\")\n",
    "    else:\n",
    "        print(f\"{v} is incorrect according to python\")"
   ]
  },
  {
   "cell_type": "code",
   "execution_count": null,
   "metadata": {},
   "outputs": [],
   "source": [
    "# Maybe we want to do something with both the keys and the values at once\n",
    "print(\"What is 0.1 + 0.2?\")\n",
    "for ____ in ____:\n",
    "    print(f\"({k})  {v}\")"
   ]
  },
  {
   "cell_type": "markdown",
   "metadata": {},
   "source": [
    "### Updating and assigning new values to a `dict`"
   ]
  },
  {
   "cell_type": "markdown",
   "metadata": {},
   "source": [
    "#### How to"
   ]
  },
  {
   "cell_type": "markdown",
   "metadata": {},
   "source": [
    "We can assign a value to a dictionary by using `[]` and `=`."
   ]
  },
  {
   "cell_type": "code",
   "execution_count": null,
   "metadata": {},
   "outputs": [],
   "source": [
    "answers"
   ]
  },
  {
   "cell_type": "code",
   "execution_count": null,
   "metadata": {},
   "outputs": [],
   "source": [
    "# We can do this to update a value\n",
    "_____\n",
    "answers"
   ]
  },
  {
   "cell_type": "code",
   "execution_count": null,
   "metadata": {},
   "outputs": [],
   "source": [
    "# We can do this to add a new vaue\n",
    "_____\n",
    "answers"
   ]
  },
  {
   "cell_type": "markdown",
   "metadata": {},
   "source": [
    "#### How to use"
   ]
  },
  {
   "cell_type": "markdown",
   "metadata": {},
   "source": [
    "We might use a dictionary to count occurances of something."
   ]
  },
  {
   "cell_type": "code",
   "execution_count": null,
   "metadata": {},
   "outputs": [],
   "source": [
    "# Before we receive any answers, they all have a count of zero\n",
    "# i.e. we will 'initialize' all of them with 0\n",
    "answer_counts = {\"A\": 0, \"B\": 0, \"C\": 0, \"D\": 0, \"E\": 0}\n",
    "\n",
    "answers_received = [\"A\", \"B\", \"A\", \"C\", \"E\", \"E\", \"A\", \"B\", \"D\", \"B\"]\n",
    "\n",
    "\n",
    "for ar in answers_received:\n",
    "    # look up the answer received in the dictionary\n",
    "    # add 1 to its value\n",
    "    ____\n",
    "\n",
    "answer_counts"
   ]
  },
  {
   "cell_type": "markdown",
   "metadata": {},
   "source": [
    "### Checking if a key exists"
   ]
  },
  {
   "cell_type": "markdown",
   "metadata": {},
   "source": [
    "In the last example we 'initialized' our dictionary with all of the possible answers and set their counts to zero.  What if someone submitted 'F' as their answer?  Trying to look up 'F' in our dictionary would lead to an error:"
   ]
  },
  {
   "cell_type": "code",
   "execution_count": null,
   "metadata": {},
   "outputs": [],
   "source": [
    "answer_counts[\"F\"] += 1"
   ]
  },
  {
   "cell_type": "markdown",
   "metadata": {},
   "source": [
    "To be safe, we might check if the dictionary has our key before adding 1."
   ]
  },
  {
   "cell_type": "code",
   "execution_count": null,
   "metadata": {},
   "outputs": [],
   "source": [
    "# Check if F is a key\n"
   ]
  },
  {
   "cell_type": "code",
   "execution_count": null,
   "metadata": {},
   "outputs": [],
   "source": [
    "# Check if A is a key\n"
   ]
  },
  {
   "cell_type": "markdown",
   "metadata": {},
   "source": [
    "If we wanted to use this to our advantage, we might rewrite the process above:"
   ]
  },
  {
   "cell_type": "code",
   "execution_count": null,
   "metadata": {},
   "outputs": [],
   "source": [
    "# No need to initialize values, we'll make them on the fly\n",
    "answer_counts = {}\n",
    "\n",
    "answers_received = [\"A\", \"B\", \"A\", \"C\", \"E\", \"E\", \"A\", \"B\", \"D\", \"B\", \"F\"]\n",
    "\n",
    "\n",
    "for ar in answers_received:\n",
    "    # Check if we've received this answer before\n",
    "    ____:\n",
    "        # if it exists add 1\n",
    "        answer_counts[ar] += 1\n",
    "    else:\n",
    "        # create an entry and set to 1\n",
    "        answer_counts[ar] = 1\n",
    "\n",
    "answer_counts"
   ]
  },
  {
   "cell_type": "markdown",
   "metadata": {},
   "source": [
    "### Warm-up\n",
    "\n",
    "Given the below dictionary, what code will output the following:\n",
    "\n",
    "```python\n",
    "['Babe', 'Barry', 'Hank']\n",
    "```\n"
   ]
  },
  {
   "cell_type": "code",
   "execution_count": null,
   "metadata": {},
   "outputs": [],
   "source": [
    "a_dict = {\"Barry\": 762, \"Hank\": 755, \"Babe\": 714}"
   ]
  },
  {
   "cell_type": "code",
   "execution_count": null,
   "metadata": {},
   "outputs": [],
   "source": []
  },
  {
   "cell_type": "code",
   "execution_count": null,
   "metadata": {},
   "outputs": [],
   "source": [
    "# test\n",
    "output == [\"Babe\", \"Barry\", \"Hank\"]"
   ]
  },
  {
   "cell_type": "markdown",
   "metadata": {},
   "source": [
    "### Practice 1\n",
    "\n",
    "You want to print out the key-value pairs in the dictionary `a_dict`:"
   ]
  },
  {
   "cell_type": "code",
   "execution_count": null,
   "metadata": {},
   "outputs": [],
   "source": [
    "a_dict = {\"Barry\": 762, \"Hank\": 755, \"Babe\": 714}"
   ]
  },
  {
   "cell_type": "code",
   "execution_count": null,
   "metadata": {},
   "outputs": [],
   "source": [
    "# Starter code\n",
    "___ item in ___.___():\n",
    "    print(___)"
   ]
  },
  {
   "cell_type": "markdown",
   "metadata": {},
   "source": [
    "### Practice 2"
   ]
  },
  {
   "cell_type": "markdown",
   "metadata": {},
   "source": [
    "Write a function to check whether a key is found in a dictionary:\n",
    "* If the key is found, `return “This key is in the dictionary.”`\n",
    "* If not, `return “This key is not in the dictionary.”`"
   ]
  },
  {
   "cell_type": "code",
   "execution_count": null,
   "metadata": {},
   "outputs": [],
   "source": []
  },
  {
   "cell_type": "markdown",
   "metadata": {},
   "source": [
    "### Practice 3"
   ]
  },
  {
   "cell_type": "markdown",
   "metadata": {},
   "source": [
    "What code could we use to remove `\"Barry\": 762` and replace with `\"Alex\": 696`?"
   ]
  },
  {
   "cell_type": "code",
   "execution_count": null,
   "metadata": {},
   "outputs": [],
   "source": [
    "a_dict = {\"Barry\": 762, \"Hank\": 755, \"Babe\": 714}"
   ]
  },
  {
   "cell_type": "code",
   "execution_count": null,
   "metadata": {},
   "outputs": [],
   "source": []
  },
  {
   "cell_type": "markdown",
   "metadata": {},
   "source": [
    "### Practice 4\n",
    "\n",
    "Fill in the blank code below to return a dictionary only containing values in `a_dict` greater than 750. "
   ]
  },
  {
   "cell_type": "code",
   "execution_count": null,
   "metadata": {},
   "outputs": [],
   "source": [
    "a_dict = {\"Barry\": 762, \"Hank\": 755, \"Babe\": 714}\n",
    "new_dict = ___\n",
    "\n",
    "for key, value in a_dict.___():\n",
    "    if ___ ___ 750:\n",
    "        new_dict[___] = ___"
   ]
  },
  {
   "cell_type": "markdown",
   "metadata": {},
   "source": [
    "### Practice 5\n",
    "\n",
    "How could we find the total of the values in `a_dict`?\n",
    "\n",
    "(i.e. if `a_dict = {\"Barry\": 1, \"Hank\": 2, \"Babe\": 0}` then the answer should be `3`)"
   ]
  },
  {
   "cell_type": "code",
   "execution_count": null,
   "metadata": {},
   "outputs": [],
   "source": [
    "a_dict = {\"Barry\": 762, \"Hank\": 755, \"Babe\": 714}"
   ]
  },
  {
   "cell_type": "code",
   "execution_count": null,
   "metadata": {},
   "outputs": [],
   "source": []
  }
 ],
 "metadata": {
  "kernelspec": {
   "display_name": "Python 3",
   "language": "python",
   "name": "python3"
  },
  "language_info": {
   "codemirror_mode": {
    "name": "ipython",
    "version": 3
   },
   "file_extension": ".py",
   "mimetype": "text/x-python",
   "name": "python",
   "nbconvert_exporter": "python",
   "pygments_lexer": "ipython3",
   "version": "3.7.7"
  }
 },
 "nbformat": 4,
 "nbformat_minor": 2
}
