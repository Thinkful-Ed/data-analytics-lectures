{
 "cells": [
  {
   "cell_type": "markdown",
   "metadata": {},
   "source": [
    "# 11.2.B Working with numbers\n"
   ]
  },
  {
   "cell_type": "markdown",
   "metadata": {},
   "source": [
    "### Warm-up 🥵\n",
    "\n",
    "1. Write a function that \n",
    "    * takes as parameters the number of pennies, nickels, dimes and quarters\n",
    "    * `return`s the total amount of money that the user has in dollars and cents"
   ]
  },
  {
   "cell_type": "code",
   "execution_count": null,
   "metadata": {},
   "outputs": [],
   "source": []
  },
  {
   "cell_type": "markdown",
   "metadata": {},
   "source": [
    "* *Warm-up bonus*: use string formatting to print() the dollar total with a dollar sign and with only 2 decimal places.\n",
    "\n",
    "\n",
    "* *Warm-up bonus bonus*: use print() to prompt the user to type in their pocket change info, and use input() to receive this info and pass it into your function.\n"
   ]
  },
  {
   "cell_type": "code",
   "execution_count": null,
   "metadata": {},
   "outputs": [],
   "source": []
  },
  {
   "cell_type": "markdown",
   "metadata": {},
   "source": [
    "## Arithmetic, comparison, and assignment operators\n",
    "\n",
    "### Arithmetic\n",
    "\n",
    "|Operator| Name       | Description                                                |\n",
    "|:--:|----------------|------------------------------------------------------------|\n",
    "| +  | Addition       | Adds values                                                |\n",
    "| -  | Subtraction    | Subtracts one value from another                           |\n",
    "| *  | Multiplication | Multiplies values                                          |\n",
    "| /  | Division       | Divides one value by another                               |\n",
    "| %  | Modulus        | Divides one value by another, returning remainder          |\n",
    "| ** | Exponent       | Perform power calculation on values                        |\n",
    "| // | Floor division | Division where the quotient is rounded to next integer down|\n",
    "\n",
    "### Comparison\n",
    "\n",
    "|Operator| Description            |\n",
    "|:------:|------------------------|\n",
    "|   ==   |Equal to                |\n",
    "|   !=   |Not equal to            |\n",
    "|   <>   |Not equal to            |\n",
    "|    >   |Greater than            |\n",
    "|    <   |Less than               |\n",
    "|   >=   |Greater than or equal to|\n",
    "|   <=   |Less than or equal to   |\n",
    "\n",
    "\n",
    "### Assignment\n",
    "\n",
    "|Operator| Description                                                         |\n",
    "|:------:|---------------------------------------------------------------------|\n",
    "|   =    | Assigns values from right side to left side                         |\n",
    "|   +=   | Adds right side to left side                                        |\n",
    "|   -=   | Subtracts right side from left side and assigns result to left side |\n",
    "|   \\*=  | Multiplies right side with left side and assigns result to left side|\n",
    "\n",
    "All of the arithmetic operators above can be paired with the assignment operator."
   ]
  },
  {
   "cell_type": "markdown",
   "metadata": {},
   "source": [
    "### Practice 1\n",
    "\n",
    "You are working with a logistics company that needs to know how many additional packages they can ship after accounting for rushed orders (which get a priority spot in the container).\n",
    "\n",
    "* The shipping container holds 1,150 cubic feet.\n",
    "* All of your companies boxes are 3 cubic feet (ignore the shape and just assume that the if there's 3 cft available that a box can fit).\n",
    "* There are already 23 priority boxes in a container, how many more boxes can fit?"
   ]
  },
  {
   "cell_type": "code",
   "execution_count": null,
   "metadata": {},
   "outputs": [],
   "source": []
  },
  {
   "cell_type": "markdown",
   "metadata": {},
   "source": [
    "### Practice 2\n",
    "\n",
    "Write a function that\n",
    "* Takes in as parameters: a number (`x`) & an exponent (`y`)\n",
    "* `return`s whether or not the result of $x^y$ is even or odd\n",
    "    * For example: if `x=1` and `y=2`, your function would say `'odd'` (because $1^2$ is $1$ which is odd)"
   ]
  },
  {
   "cell_type": "code",
   "execution_count": null,
   "metadata": {},
   "outputs": [],
   "source": []
  },
  {
   "cell_type": "markdown",
   "metadata": {},
   "source": [
    "### Practice 3\n",
    "\n",
    "Define two numeric variables with values of your choice (`x` & `y`)\n",
    "\n",
    "Use the assignment and comparison operators to:\n",
    "* Multiply the number by 9 and re-assign this output to `x`\n",
    "* Add 1 and re-assign this output to `x`\n",
    "* Check if `x` is greater than `y`"
   ]
  },
  {
   "cell_type": "code",
   "execution_count": null,
   "metadata": {},
   "outputs": [],
   "source": []
  },
  {
   "cell_type": "markdown",
   "metadata": {},
   "source": [
    "### Practice 4\n",
    "\n",
    "* Define a string variable `x`\n",
    "* Multiply the string by `10` and re-assign the output to `x`\n",
    "* Is the length of your resulting string divisible by `4`?"
   ]
  },
  {
   "cell_type": "code",
   "execution_count": null,
   "metadata": {},
   "outputs": [],
   "source": []
  }
 ],
 "metadata": {
  "kernelspec": {
   "display_name": "Python 3",
   "language": "python",
   "name": "python3"
  },
  "language_info": {
   "codemirror_mode": {
    "name": "ipython",
    "version": 3
   },
   "file_extension": ".py",
   "mimetype": "text/x-python",
   "name": "python",
   "nbconvert_exporter": "python",
   "pygments_lexer": "ipython3",
   "version": "3.7.7"
  }
 },
 "nbformat": 4,
 "nbformat_minor": 2
}
