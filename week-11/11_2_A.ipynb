{
 "cells": [
  {
   "cell_type": "markdown",
   "metadata": {},
   "source": [
    "# 11.2.A Working with strings"
   ]
  },
  {
   "cell_type": "markdown",
   "metadata": {},
   "source": [
    "### Warm-up 🥵\n",
    "\n",
    "What is the result of running each of the below lines of code?\n",
    "\n",
    "1. `\"a\"+\"bc\"`\n",
    "2. `\"abcd\"[2:]`\n",
    "3. `print(\"Hello \\n World!\")`\n",
    "4. `print(\"Under my umbr\" + \"ella \" * 3 )`"
   ]
  },
  {
   "cell_type": "code",
   "execution_count": null,
   "metadata": {},
   "outputs": [],
   "source": []
  },
  {
   "cell_type": "markdown",
   "metadata": {},
   "source": [
    "##   String tasks\n",
    "\n",
    "### Subsetting / slicing\n",
    "\n",
    "Extracting a certain portion of a string can be done with using `[]` on the end of it.  In the `[]` we can specify which letters we want to extract with the position or \"index\".  Remember python is zero indexed, so to ask for the first letter of a word we would use `0` instead of `1` (e.g. `my_string[0]`).\n",
    "\n",
    "\n",
    "We can also use `:` inside of the `[]` to extract a multiple letter portion of the string.  This syntax will be as `[start:stop]` where `start` and `stop` will be the indices of the string.  If you omit `start` (i.e. `[:stop]`) it is assumed you want to start at the beginning; if you omit `stop` (i.e. `[start:]`) it is assumed you want to stop at the end.\n",
    "\n",
    "\n",
    "You can use negative indices to specify a position in terms of how far it is from the end (e.g. \"second from the end\" would be `my_string[-2]`).\n",
    "\n",
    "-----\n",
    "\n",
    "* Define a string variable that contains a phrase\n",
    "* Extract the 3rd character from your phrase\n",
    "* Extract the first 3 characters from your phrase\n",
    "* Extract the last 3 characters from your phrase\n",
    "* Find out how many characters are in your string\n",
    "    * If it has an odd number of characters, extract the middle 3 characters.\n",
    "    * If it has an even number of characters, extract the middle 2 characters.\n",
    "    * Bonus: can you figure out how to have python check if a number is even or odd (use google + stackoverflow)"
   ]
  },
  {
   "cell_type": "code",
   "execution_count": null,
   "metadata": {},
   "outputs": [],
   "source": []
  },
  {
   "cell_type": "code",
   "execution_count": null,
   "metadata": {},
   "outputs": [],
   "source": []
  },
  {
   "cell_type": "code",
   "execution_count": null,
   "metadata": {},
   "outputs": [],
   "source": []
  },
  {
   "cell_type": "code",
   "execution_count": null,
   "metadata": {},
   "outputs": [],
   "source": []
  },
  {
   "cell_type": "code",
   "execution_count": null,
   "metadata": {},
   "outputs": [],
   "source": []
  },
  {
   "cell_type": "code",
   "execution_count": null,
   "metadata": {},
   "outputs": [],
   "source": []
  },
  {
   "cell_type": "markdown",
   "metadata": {},
   "source": [
    "### Formatting / editing\n",
    "\n",
    "A string has methods for modifying its case: `.lower()`, `.upper()`, and `.title()`.\n",
    "\n",
    "We can use the `replace()` method to edit a string.  For example, to change every occurance of `'bad'` in sting with `'good'` we could use `my_string.replace('bad', 'good')`.\n",
    "\n",
    "We can use `.find()` to locate the start position of a substring in a string.  For example, `abcdefg.find('def')` returns `3` because `d` occurs in the 4th position (but remember Python is zero indexed).\n",
    "\n",
    "-----\n",
    "\n",
    "* Define a string variable that contains a phrase (or use the same one as before)\n",
    "* Write code that will convert your string into a good python variable name\n",
    "    * Variable names in python are typically lower case and use `_` to separate words (instead of spaces like your phrase likely has)\n",
    "* Write a function called `to_var_name` that converts any input string to lower case and replaces all spaces with `_`\n",
    "    * Bonus: Variable names can't start with a number.  Have you function return `False` or `None` if the inputted string starts with a number.\n",
    "* Run your function on your input phrase.  Use `.find()` to show where the first `_` appears."
   ]
  },
  {
   "cell_type": "code",
   "execution_count": null,
   "metadata": {},
   "outputs": [],
   "source": []
  },
  {
   "cell_type": "code",
   "execution_count": null,
   "metadata": {},
   "outputs": [],
   "source": []
  },
  {
   "cell_type": "code",
   "execution_count": null,
   "metadata": {},
   "outputs": [],
   "source": []
  },
  {
   "cell_type": "code",
   "execution_count": null,
   "metadata": {},
   "outputs": [],
   "source": []
  },
  {
   "cell_type": "markdown",
   "metadata": {},
   "source": [
    "Strings have many methods. To see a list of all the methods we can call on strings, you can use the `dir()` function on a string.\n",
    "\n",
    "* Use the dir function on a string to see all the potential string methods.\n",
    "* Which method name looks like we could use it to split a string into pieces (for example to split `\"i write code\"` into `[\"i\", \"write\", \"code\"]`.\n",
    "* Use the `help()` function on the method to view its documentation (e.g. `help(''.lower)` returns information on the `.lower()` method).\n",
    "* Apply the method to split your phrase into words"
   ]
  },
  {
   "cell_type": "code",
   "execution_count": null,
   "metadata": {},
   "outputs": [],
   "source": []
  },
  {
   "cell_type": "code",
   "execution_count": null,
   "metadata": {},
   "outputs": [],
   "source": []
  },
  {
   "cell_type": "code",
   "execution_count": null,
   "metadata": {},
   "outputs": [],
   "source": []
  },
  {
   "cell_type": "code",
   "execution_count": null,
   "metadata": {},
   "outputs": [],
   "source": []
  },
  {
   "cell_type": "code",
   "execution_count": null,
   "metadata": {},
   "outputs": [],
   "source": []
  }
 ],
 "metadata": {
  "kernelspec": {
   "display_name": "Python 3",
   "language": "python",
   "name": "python3"
  },
  "language_info": {
   "codemirror_mode": {
    "name": "ipython",
    "version": 3
   },
   "file_extension": ".py",
   "mimetype": "text/x-python",
   "name": "python",
   "nbconvert_exporter": "python",
   "pygments_lexer": "ipython3",
   "version": "3.7.7"
  }
 },
 "nbformat": 4,
 "nbformat_minor": 2
}
