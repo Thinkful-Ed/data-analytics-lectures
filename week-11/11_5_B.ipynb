{
 "cells": [
  {
   "cell_type": "markdown",
   "metadata": {},
   "source": [
    "# 11.5.B Objects and modules"
   ]
  },
  {
   "cell_type": "markdown",
   "metadata": {},
   "source": [
    "### Warm-up\n",
    "\n",
    "Print the value of `pi` using the `math` module in the standard library"
   ]
  },
  {
   "cell_type": "code",
   "execution_count": null,
   "metadata": {},
   "outputs": [],
   "source": []
  },
  {
   "cell_type": "markdown",
   "metadata": {},
   "source": [
    "### Practice 1"
   ]
  },
  {
   "cell_type": "markdown",
   "metadata": {},
   "source": [
    "Try to import the the below packages.  Install any that aren't found.\n",
    "\n",
    "* `pandas`\n",
    "* `numpy`\n",
    "* `mgsub`\n",
    "* `seaborn`"
   ]
  },
  {
   "cell_type": "code",
   "execution_count": null,
   "metadata": {},
   "outputs": [],
   "source": []
  },
  {
   "cell_type": "markdown",
   "metadata": {},
   "source": [
    "### Practice 2"
   ]
  },
  {
   "cell_type": "markdown",
   "metadata": {},
   "source": [
    "`import` the entire `math` module:"
   ]
  },
  {
   "cell_type": "code",
   "execution_count": null,
   "metadata": {},
   "outputs": [],
   "source": []
  },
  {
   "cell_type": "markdown",
   "metadata": {},
   "source": [
    "`from` the `math` module, `import` just the `pi` object"
   ]
  },
  {
   "cell_type": "code",
   "execution_count": null,
   "metadata": {},
   "outputs": [],
   "source": []
  },
  {
   "cell_type": "markdown",
   "metadata": {},
   "source": [
    "### Practice 3"
   ]
  },
  {
   "cell_type": "markdown",
   "metadata": {},
   "source": [
    "* `import` the `pandas` package, but alias it as `pd`\n",
    "* `import` the `numpy` package, but alias it as `np`\n",
    "\n",
    "(these are both very popular packages for data analysis and they are almost always imported this way)"
   ]
  },
  {
   "cell_type": "code",
   "execution_count": null,
   "metadata": {},
   "outputs": [],
   "source": []
  },
  {
   "cell_type": "markdown",
   "metadata": {},
   "source": [
    "### Practice 4\n",
    "\n",
    "Using the `import`ed and aliased `pandas` package to read in and display data.\n",
    "\n",
    "* Use the `.read_csv()` 'method' from `pandas`\n",
    "* View the documentation for `.read_csv()` using `?` or `help()`\n",
    "* Read the data from the `data_url` defined below\n",
    "* Assign the output to a variable named `df`\n",
    "* What `type` of object is `df`?\n",
    "* Google how to display the first 5 rows of `df`\n",
    "   * A good google template for researching how to do this is: \n",
    "   \n",
    "   `\"python <package name> <object type> <task youd like to do>\"`\n",
    "   \n",
    "\n",
    "\n",
    "I'll get us started on filling in the template.  Now we need to fill in the `<object type>` and then perform the search:\n",
    "   \n",
    "   `\"python pandas <object type> display first 5 rows\"`"
   ]
  },
  {
   "cell_type": "code",
   "execution_count": null,
   "metadata": {},
   "outputs": [],
   "source": [
    "data_url = \"https://github.com/AdamSpannbauer/twitch_chat/blob/master/data/slippi_data/ssbm_win.csv\""
   ]
  },
  {
   "cell_type": "code",
   "execution_count": null,
   "metadata": {},
   "outputs": [],
   "source": []
  }
 ],
 "metadata": {
  "kernelspec": {
   "display_name": "Python 3",
   "language": "python",
   "name": "python3"
  },
  "language_info": {
   "codemirror_mode": {
    "name": "ipython",
    "version": 3
   },
   "file_extension": ".py",
   "mimetype": "text/x-python",
   "name": "python",
   "nbconvert_exporter": "python",
   "pygments_lexer": "ipython3",
   "version": "3.7.7"
  }
 },
 "nbformat": 4,
 "nbformat_minor": 2
}
