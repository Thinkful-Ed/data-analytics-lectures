{
 "cells": [
  {
   "cell_type": "markdown",
   "metadata": {},
   "source": [
    "# 12.3.A Visualizations"
   ]
  },
  {
   "cell_type": "markdown",
   "metadata": {},
   "source": [
    "We need some imports to start making some visualizations.  The visualization packages we'll be using are `matplotlib` and `seaborn`.  For the most part, we'll be sticking to `seaborn` due to its ease of use compared to other options, but this package is actually built on top of `matplotlib` (i.e. the `seaborn` functions we'll be using are actually calling `matplotlib` functions).\n",
    "\n",
    "We'll also use  a 'magic' command.  [Magic commands](https://ipython.readthedocs.io/en/stable/interactive/magics.html) are something we'll use to make our code behave differently in jupyter/colab notebook.  For example, the magic we're using is related to plots being displayed.  Note, this command isn't technically needed in a lot of places because it's loaded automatically in a lot of places, but in general, its good to write code that will work the same in different locations.\n",
    "\n",
    "Magic commands start with `%` and then we write out the specific command we're after.  \n",
    "\n",
    "* Write the import statements for the below:\n",
    "\n",
    "|        package       | alias |\n",
    "|:--------------------:|:-----:|\n",
    "| `pandas`             |  `pd` |\n",
    "| `numpy`              |  `np` |\n",
    "| `seaborn`            | `sns` |\n",
    "| `matplotlib.pyplot`  | `plt` |\n",
    "\n",
    "* Also, import the `stats` module from `scipy` (I couldn't think of a good way to add this to the table)\n",
    "\n",
    "* Write a magic command for `matplotlib inline` (remember that magic commands start with `%`"
   ]
  },
  {
   "cell_type": "code",
   "execution_count": 37,
   "metadata": {},
   "outputs": [
    {
     "data": {
      "application/javascript": [
       "\n",
       "            setTimeout(function() {\n",
       "                var nbb_cell_id = 37;\n",
       "                var nbb_unformatted_code = \"import pandas as pd\\nimport numpy as np\\nimport seaborn as sns\\nimport matplotlib.pyplot as plt\\n\\n%matplotlib inline\";\n",
       "                var nbb_formatted_code = \"import pandas as pd\\nimport numpy as np\\nimport seaborn as sns\\nimport matplotlib.pyplot as plt\\n\\n%matplotlib inline\";\n",
       "                var nbb_cells = Jupyter.notebook.get_cells();\n",
       "                for (var i = 0; i < nbb_cells.length; ++i) {\n",
       "                    if (nbb_cells[i].input_prompt_number == nbb_cell_id) {\n",
       "                        if (nbb_cells[i].get_text() == nbb_unformatted_code) {\n",
       "                             nbb_cells[i].set_text(nbb_formatted_code);\n",
       "                        }\n",
       "                        break;\n",
       "                    }\n",
       "                }\n",
       "            }, 500);\n",
       "            "
      ],
      "text/plain": [
       "<IPython.core.display.Javascript object>"
      ]
     },
     "metadata": {},
     "output_type": "display_data"
    }
   ],
   "source": []
  },
  {
   "cell_type": "code",
   "execution_count": 28,
   "metadata": {},
   "outputs": [
    {
     "data": {
      "application/javascript": [
       "\n",
       "            setTimeout(function() {\n",
       "                var nbb_cell_id = 28;\n",
       "                var nbb_unformatted_code = \"postgres_user = \\\"dabc_student\\\"\\npostgres_pw = \\\"7*.8G9QH21\\\"\\npostgres_host = \\\"142.93.121.174\\\"\\npostgres_port = \\\"5432\\\"\\npostgres_db = \\\"studentsperformance\\\"\\n\\nconn_str = f\\\"postgresql://{postgres_user}:{postgres_pw}@{postgres_host}:{postgres_port}/{postgres_db}\\\"\";\n",
       "                var nbb_formatted_code = \"postgres_user = \\\"dabc_student\\\"\\npostgres_pw = \\\"7*.8G9QH21\\\"\\npostgres_host = \\\"142.93.121.174\\\"\\npostgres_port = \\\"5432\\\"\\npostgres_db = \\\"studentsperformance\\\"\\n\\nconn_str = f\\\"postgresql://{postgres_user}:{postgres_pw}@{postgres_host}:{postgres_port}/{postgres_db}\\\"\";\n",
       "                var nbb_cells = Jupyter.notebook.get_cells();\n",
       "                for (var i = 0; i < nbb_cells.length; ++i) {\n",
       "                    if (nbb_cells[i].input_prompt_number == nbb_cell_id) {\n",
       "                        if (nbb_cells[i].get_text() == nbb_unformatted_code) {\n",
       "                             nbb_cells[i].set_text(nbb_formatted_code);\n",
       "                        }\n",
       "                        break;\n",
       "                    }\n",
       "                }\n",
       "            }, 500);\n",
       "            "
      ],
      "text/plain": [
       "<IPython.core.display.Javascript object>"
      ]
     },
     "metadata": {},
     "output_type": "display_data"
    }
   ],
   "source": [
    "postgres_user = \"dabc_student\"\n",
    "postgres_pw = \"7*.8G9QH21\"\n",
    "postgres_host = \"142.93.121.174\"\n",
    "postgres_port = \"5432\"\n",
    "postgres_db = \"studentsperformance\"\n",
    "\n",
    "conn_str = f\"postgresql://{postgres_user}:{postgres_pw}@{postgres_host}:{postgres_port}/{postgres_db}\""
   ]
  },
  {
   "cell_type": "markdown",
   "metadata": {},
   "source": [
    "* Write a query to pull back all of the `studentsperformance` table from SQL"
   ]
  },
  {
   "cell_type": "code",
   "execution_count": 29,
   "metadata": {},
   "outputs": [
    {
     "data": {
      "application/javascript": [
       "\n",
       "            setTimeout(function() {\n",
       "                var nbb_cell_id = 29;\n",
       "                var nbb_unformatted_code = \"query = \\\"\\\"\\\"\\nSELECT * FROM studentsperformance\\n\\\"\\\"\\\"\\n\\nstudents = pd.read_sql_query(query, con=conn_str)\";\n",
       "                var nbb_formatted_code = \"query = \\\"\\\"\\\"\\nSELECT * FROM studentsperformance\\n\\\"\\\"\\\"\\n\\nstudents = pd.read_sql_query(query, con=conn_str)\";\n",
       "                var nbb_cells = Jupyter.notebook.get_cells();\n",
       "                for (var i = 0; i < nbb_cells.length; ++i) {\n",
       "                    if (nbb_cells[i].input_prompt_number == nbb_cell_id) {\n",
       "                        if (nbb_cells[i].get_text() == nbb_unformatted_code) {\n",
       "                             nbb_cells[i].set_text(nbb_formatted_code);\n",
       "                        }\n",
       "                        break;\n",
       "                    }\n",
       "                }\n",
       "            }, 500);\n",
       "            "
      ],
      "text/plain": [
       "<IPython.core.display.Javascript object>"
      ]
     },
     "metadata": {},
     "output_type": "display_data"
    }
   ],
   "source": [
    "query = \"\"\"\n",
    "\n",
    "\"\"\"\n",
    "\n",
    "students = pd.read_sql_query(query, con=conn_str)"
   ]
  },
  {
   "cell_type": "markdown",
   "metadata": {},
   "source": [
    "### Inspect the dataframe\n",
    "\n",
    "We want to get into visualizing the data, but we need to know what we're working with."
   ]
  },
  {
   "cell_type": "markdown",
   "metadata": {},
   "source": [
    "* How many rows / columns do we have?"
   ]
  },
  {
   "cell_type": "code",
   "execution_count": null,
   "metadata": {},
   "outputs": [],
   "source": []
  },
  {
   "cell_type": "markdown",
   "metadata": {},
   "source": [
    "* What are our columns datatypes?"
   ]
  },
  {
   "cell_type": "code",
   "execution_count": null,
   "metadata": {},
   "outputs": [],
   "source": []
  },
  {
   "cell_type": "markdown",
   "metadata": {},
   "source": [
    "* Do we have missing values?\n",
    "  * If yes, how should we handle them?"
   ]
  },
  {
   "cell_type": "code",
   "execution_count": null,
   "metadata": {},
   "outputs": [],
   "source": []
  },
  {
   "cell_type": "markdown",
   "metadata": {},
   "source": [
    "* What does the `.head()` of our data look like?"
   ]
  },
  {
   "cell_type": "code",
   "execution_count": null,
   "metadata": {},
   "outputs": [],
   "source": []
  },
  {
   "cell_type": "markdown",
   "metadata": {},
   "source": [
    "* Display the std/min/max/mean/count of each numeric column\n",
    "  * *Hint: this can be done with a single method*"
   ]
  },
  {
   "cell_type": "code",
   "execution_count": null,
   "metadata": {},
   "outputs": [],
   "source": []
  },
  {
   "cell_type": "markdown",
   "metadata": {},
   "source": [
    "* Do we have any variables that are correlated?\n",
    "  * Is this a positive or negative correlation?"
   ]
  },
  {
   "cell_type": "code",
   "execution_count": null,
   "metadata": {},
   "outputs": [],
   "source": []
  },
  {
   "cell_type": "markdown",
   "metadata": {},
   "source": [
    "### Visualizing!!\n",
    "\n",
    "#### `seaborn` templates\n",
    "\n",
    "##### General\n",
    "\n",
    "The `seaborn` functions have a typical structure of:\n",
    "\n",
    "```python\n",
    "sns.plot_name(x=\"col_name_a\", y=\"col_name_b\", data=df_name)\n",
    "```\n",
    "\n",
    "##### Single variable\n",
    "\n",
    "There are some plot types that don't take both an `x` and a `y`.  When that's the case, our general format will look more like:\n",
    "\n",
    "```python\n",
    "sns.plot_name(df_name[\"col_name\"]\n",
    "```\n",
    "\n",
    "##### Coloring\n",
    "\n",
    "The last general form we'll bring up is how to color the plot by another variable.  This is a very useful feature to help visualize the relationship between more variables than just 2.  For example, the below plot shows the relationship of 3 variables: 2 numeric (`petal_width` & `petal_length`) & 1 categorical (`type`).  From this plot we are able to see that as `petal_width` increases, so does `petal_length` (i.e. they are positively correlated).  We can also see that setosa is has generally smaller petals than versicolor or virginica.\n",
    "\n",
    "<p>\n",
    "    <img src='https://miro.medium.com/max/1064/1*3eV7yt7TDUgTMixfGB9fGw.png' width=50%>\n",
    "</p>\n",
    "\n",
    "To create a plot like this with `seaborn` we can use the `hue` argument + the general form shown above:\n",
    "\n",
    "```python\n",
    "sns.scatterplot(x=\"col_name_a\", y=\"col_name_b\", hue=\"col_name_c\", data=df_name)\n",
    "```\n",
    "\n",
    "Note, in addition to `hue` we have other parameters we can use to style our plot like `size` & `style`."
   ]
  },
  {
   "cell_type": "markdown",
   "metadata": {},
   "source": [
    "#### Histograms\n",
    "\n",
    "A histogram is used to visualize the distribution of a single variable (so it will take the form shown in the \"Single variable\" section above.  The function from `seaborn` that will give us the output we're after is `sns.distplot()` (short for distribution plot).\n",
    "\n",
    "* Plot a histogram of the `'math score'` column"
   ]
  },
  {
   "cell_type": "code",
   "execution_count": null,
   "metadata": {},
   "outputs": [],
   "source": []
  },
  {
   "cell_type": "markdown",
   "metadata": {},
   "source": [
    "Note, just like how notebooks will only display the last item in the cell for free.  We can only show one plot per cell unless we call the plotting equivalent of `print()`."
   ]
  },
  {
   "cell_type": "code",
   "execution_count": 30,
   "metadata": {},
   "outputs": [
    {
     "data": {
      "text/plain": [
       "2"
      ]
     },
     "execution_count": 30,
     "metadata": {},
     "output_type": "execute_result"
    },
    {
     "data": {
      "application/javascript": [
       "\n",
       "            setTimeout(function() {\n",
       "                var nbb_cell_id = 30;\n",
       "                var nbb_unformatted_code = \"# Only 2 is shown because it is the last thing in the cell\\n1\\n2\";\n",
       "                var nbb_formatted_code = \"# Only 2 is shown because it is the last thing in the cell\\n1\\n2\";\n",
       "                var nbb_cells = Jupyter.notebook.get_cells();\n",
       "                for (var i = 0; i < nbb_cells.length; ++i) {\n",
       "                    if (nbb_cells[i].input_prompt_number == nbb_cell_id) {\n",
       "                        if (nbb_cells[i].get_text() == nbb_unformatted_code) {\n",
       "                             nbb_cells[i].set_text(nbb_formatted_code);\n",
       "                        }\n",
       "                        break;\n",
       "                    }\n",
       "                }\n",
       "            }, 500);\n",
       "            "
      ],
      "text/plain": [
       "<IPython.core.display.Javascript object>"
      ]
     },
     "metadata": {},
     "output_type": "display_data"
    }
   ],
   "source": [
    "# Only 2 is shown because it is the last thing in the cell\n",
    "1\n",
    "2"
   ]
  },
  {
   "cell_type": "code",
   "execution_count": 31,
   "metadata": {},
   "outputs": [
    {
     "name": "stdout",
     "output_type": "stream",
     "text": [
      "1\n"
     ]
    },
    {
     "data": {
      "text/plain": [
       "2"
      ]
     },
     "execution_count": 31,
     "metadata": {},
     "output_type": "execute_result"
    },
    {
     "data": {
      "application/javascript": [
       "\n",
       "            setTimeout(function() {\n",
       "                var nbb_cell_id = 31;\n",
       "                var nbb_unformatted_code = \"# If we use print we can display more items than just the last\\nprint(1)\\n2\";\n",
       "                var nbb_formatted_code = \"# If we use print we can display more items than just the last\\nprint(1)\\n2\";\n",
       "                var nbb_cells = Jupyter.notebook.get_cells();\n",
       "                for (var i = 0; i < nbb_cells.length; ++i) {\n",
       "                    if (nbb_cells[i].input_prompt_number == nbb_cell_id) {\n",
       "                        if (nbb_cells[i].get_text() == nbb_unformatted_code) {\n",
       "                             nbb_cells[i].set_text(nbb_formatted_code);\n",
       "                        }\n",
       "                        break;\n",
       "                    }\n",
       "                }\n",
       "            }, 500);\n",
       "            "
      ],
      "text/plain": [
       "<IPython.core.display.Javascript object>"
      ]
     },
     "metadata": {},
     "output_type": "display_data"
    }
   ],
   "source": [
    "# If we use print we can display more items than just the last\n",
    "print(1)\n",
    "2"
   ]
  },
  {
   "cell_type": "markdown",
   "metadata": {},
   "source": [
    "The plotting equivalent of print is `plt.show()`.  Unlike `print()`, we won't put our plot code inside the parens, instead, we will add the `plt.show()` command as a single line below our plot code.\n",
    "\n",
    "Write these next 2 plots in the same cell using `plt.show()` to display both\n",
    "\n",
    "* Plot a histogram of the `'reading score'` column\n",
    "* Plot a histogram of the `'writing score'` column"
   ]
  },
  {
   "cell_type": "code",
   "execution_count": null,
   "metadata": {},
   "outputs": [],
   "source": []
  },
  {
   "cell_type": "markdown",
   "metadata": {},
   "source": [
    "#### Scatter plots\n",
    "\n",
    "The scatter plot is one of the most common chart types out there.  It works fantastically to see how 2 numeric variables relate to each other.  The `seaborn` function for creating a scatter plot is: `sns.scatterplot()`.\n",
    "\n",
    "* Create a scatter plot of the `math score` and `reading score` columns"
   ]
  },
  {
   "cell_type": "code",
   "execution_count": null,
   "metadata": {
    "hideOutput": true
   },
   "outputs": [],
   "source": []
  },
  {
   "cell_type": "markdown",
   "metadata": {},
   "source": [
    "##### Getting fancy\n",
    "\n",
    "* Recreate the above scatter plot, but color by `'gender'`"
   ]
  },
  {
   "cell_type": "code",
   "execution_count": null,
   "metadata": {},
   "outputs": [],
   "source": []
  },
  {
   "cell_type": "markdown",
   "metadata": {},
   "source": [
    "* Recreate the above scatter plot, but `style` by `'lunch'`"
   ]
  },
  {
   "cell_type": "code",
   "execution_count": null,
   "metadata": {},
   "outputs": [],
   "source": []
  },
  {
   "cell_type": "markdown",
   "metadata": {},
   "source": [
    "* Recreate the above scatter plot, but `size` by `'writing score'`"
   ]
  },
  {
   "cell_type": "code",
   "execution_count": null,
   "metadata": {},
   "outputs": [],
   "source": []
  },
  {
   "cell_type": "markdown",
   "metadata": {},
   "source": [
    "#### Boxplots\n",
    "\n",
    "We can use box plots to compare multiple distributions.  For example, we might want to compare a numeric variable split into 2 groups (like in a t-test (like in a capstone project)).\n",
    "\n",
    "In our scatter plot above, it looked like females had higher reading scores in our dataset.  Let's create a boxplot to investigate this further.\n",
    "\n",
    "* Create a boxplot using `sns.boxplot()`\n",
    "  * Use `'gender'` as `x` and `'reading score'` as `y`\n",
    "* Alternatives to the box plot that are very very similar in nature are: `sns.violinplot()` & `sns.boxenplot()`; try out these alternatives"
   ]
  },
  {
   "cell_type": "code",
   "execution_count": 32,
   "metadata": {},
   "outputs": [
    {
     "data": {
      "text/plain": [
       "<matplotlib.axes._subplots.AxesSubplot at 0x12aef0950>"
      ]
     },
     "execution_count": 32,
     "metadata": {},
     "output_type": "execute_result"
    },
    {
     "data": {
      "image/png": "[encoded data removed]",
      "text/plain": [
       "<Figure size 432x288 with 1 Axes>"
      ]
     },
     "metadata": {
      "needs_background": "light"
     },
     "output_type": "display_data"
    },
    {
     "data": {
      "application/javascript": [
       "\n",
       "            setTimeout(function() {\n",
       "                var nbb_cell_id = 32;\n",
       "                var nbb_unformatted_code = \"sns.boxplot(x='gender', y='reading score', data=students)\";\n",
       "                var nbb_formatted_code = \"sns.boxplot(x=\\\"gender\\\", y=\\\"reading score\\\", data=students)\";\n",
       "                var nbb_cells = Jupyter.notebook.get_cells();\n",
       "                for (var i = 0; i < nbb_cells.length; ++i) {\n",
       "                    if (nbb_cells[i].input_prompt_number == nbb_cell_id) {\n",
       "                        if (nbb_cells[i].get_text() == nbb_unformatted_code) {\n",
       "                             nbb_cells[i].set_text(nbb_formatted_code);\n",
       "                        }\n",
       "                        break;\n",
       "                    }\n",
       "                }\n",
       "            }, 500);\n",
       "            "
      ],
      "text/plain": [
       "<IPython.core.display.Javascript object>"
      ]
     },
     "metadata": {},
     "output_type": "display_data"
    }
   ],
   "source": []
  },
  {
   "cell_type": "markdown",
   "metadata": {},
   "source": [
    "Let's go down the road of a t-test.\n",
    "\n",
    "* Split the dataframe into 2 groups based on the `'gender'` column"
   ]
  },
  {
   "cell_type": "code",
   "execution_count": 33,
   "metadata": {},
   "outputs": [
    {
     "data": {
      "application/javascript": [
       "\n",
       "            setTimeout(function() {\n",
       "                var nbb_cell_id = 33;\n",
       "                var nbb_unformatted_code = \"male = students[students['gender'] == 'male']\\nfemale = students[students['gender'] == 'female']\";\n",
       "                var nbb_formatted_code = \"male = students[students[\\\"gender\\\"] == \\\"male\\\"]\\nfemale = students[students[\\\"gender\\\"] == \\\"female\\\"]\";\n",
       "                var nbb_cells = Jupyter.notebook.get_cells();\n",
       "                for (var i = 0; i < nbb_cells.length; ++i) {\n",
       "                    if (nbb_cells[i].input_prompt_number == nbb_cell_id) {\n",
       "                        if (nbb_cells[i].get_text() == nbb_unformatted_code) {\n",
       "                             nbb_cells[i].set_text(nbb_formatted_code);\n",
       "                        }\n",
       "                        break;\n",
       "                    }\n",
       "                }\n",
       "            }, 500);\n",
       "            "
      ],
      "text/plain": [
       "<IPython.core.display.Javascript object>"
      ]
     },
     "metadata": {},
     "output_type": "display_data"
    }
   ],
   "source": []
  },
  {
   "cell_type": "markdown",
   "metadata": {},
   "source": [
    "* Check if our data has the appropriate shapes to perform a t-test"
   ]
  },
  {
   "cell_type": "code",
   "execution_count": 34,
   "metadata": {},
   "outputs": [
    {
     "data": {
      "text/plain": [
       "Ttest_indResult(statistic=7.959308005187657, pvalue=4.680538743933289e-15)"
      ]
     },
     "execution_count": 34,
     "metadata": {},
     "output_type": "execute_result"
    },
    {
     "data": {
      "application/javascript": [
       "\n",
       "            setTimeout(function() {\n",
       "                var nbb_cell_id = 34;\n",
       "                var nbb_unformatted_code = \"from scipy import stats\\nstats.ttest_ind(female['reading score'], male['reading score'])\";\n",
       "                var nbb_formatted_code = \"from scipy import stats\\n\\nstats.ttest_ind(female[\\\"reading score\\\"], male[\\\"reading score\\\"])\";\n",
       "                var nbb_cells = Jupyter.notebook.get_cells();\n",
       "                for (var i = 0; i < nbb_cells.length; ++i) {\n",
       "                    if (nbb_cells[i].input_prompt_number == nbb_cell_id) {\n",
       "                        if (nbb_cells[i].get_text() == nbb_unformatted_code) {\n",
       "                             nbb_cells[i].set_text(nbb_formatted_code);\n",
       "                        }\n",
       "                        break;\n",
       "                    }\n",
       "                }\n",
       "            }, 500);\n",
       "            "
      ],
      "text/plain": [
       "<IPython.core.display.Javascript object>"
      ]
     },
     "metadata": {},
     "output_type": "display_data"
    }
   ],
   "source": []
  },
  {
   "cell_type": "markdown",
   "metadata": {},
   "source": [
    "* If the data has the appropriate shape, perform a t-test"
   ]
  },
  {
   "cell_type": "code",
   "execution_count": null,
   "metadata": {},
   "outputs": [],
   "source": []
  },
  {
   "cell_type": "markdown",
   "metadata": {},
   "source": [
    "* If you see a significant difference in means, use the function below to calculate a 95% confidence interval\n",
    "* How do we interpret the output?"
   ]
  },
  {
   "cell_type": "code",
   "execution_count": 38,
   "metadata": {},
   "outputs": [
    {
     "data": {
      "application/javascript": [
       "\n",
       "            setTimeout(function() {\n",
       "                var nbb_cell_id = 38;\n",
       "                var nbb_unformatted_code = \"def get_95_ci(x1, x2):\\n    signal = x1.mean() - x2.mean()\\n    noise = np.sqrt(x1.std() ** 2 / len(x1) + x2.std() ** 2 / len(x2))\\n\\n    ci_lower_bound = signal - 1.96 * noise\\n    ci_upper_bound = signal + 1.96 * noise\\n\\n    return (ci_lower_bound, ci_upper_bound)\";\n",
       "                var nbb_formatted_code = \"def get_95_ci(x1, x2):\\n    signal = x1.mean() - x2.mean()\\n    noise = np.sqrt(x1.std() ** 2 / len(x1) + x2.std() ** 2 / len(x2))\\n\\n    ci_lower_bound = signal - 1.96 * noise\\n    ci_upper_bound = signal + 1.96 * noise\\n\\n    return (ci_lower_bound, ci_upper_bound)\";\n",
       "                var nbb_cells = Jupyter.notebook.get_cells();\n",
       "                for (var i = 0; i < nbb_cells.length; ++i) {\n",
       "                    if (nbb_cells[i].input_prompt_number == nbb_cell_id) {\n",
       "                        if (nbb_cells[i].get_text() == nbb_unformatted_code) {\n",
       "                             nbb_cells[i].set_text(nbb_formatted_code);\n",
       "                        }\n",
       "                        break;\n",
       "                    }\n",
       "                }\n",
       "            }, 500);\n",
       "            "
      ],
      "text/plain": [
       "<IPython.core.display.Javascript object>"
      ]
     },
     "metadata": {},
     "output_type": "display_data"
    }
   ],
   "source": [
    "def get_95_ci(x1, x2):\n",
    "    # Calculate the difference of means in the observed data\n",
    "    signal = x1.mean() - x2.mean()\n",
    "    \n",
    "    # How much data is there? (sample size with len)\n",
    "    # How consistent is the data (standard deviation with std)\n",
    "    noise = np.sqrt(x1.std() ** 2 / len(x1) + x2.std() ** 2 / len(x2))\n",
    "    \n",
    "    # Signal plus or minus noise (1.96 relates to 95% confidence level)\n",
    "    ci_lower_bound = signal - 1.96 * noise\n",
    "    ci_upper_bound = signal + 1.96 * noise\n",
    "\n",
    "    return (ci_lower_bound, ci_upper_bound)"
   ]
  },
  {
   "cell_type": "code",
   "execution_count": null,
   "metadata": {},
   "outputs": [],
   "source": []
  },
  {
   "cell_type": "markdown",
   "metadata": {},
   "source": [
    "*Note, the slides have a couple more chart types that we didn't dive into in this notebook, and `seaborn` has many many more chart types.  Explore and create.*"
   ]
  }
 ],
 "metadata": {
  "kernelspec": {
   "display_name": "Python 3",
   "language": "python",
   "name": "python3"
  },
  "language_info": {
   "codemirror_mode": {
    "name": "ipython",
    "version": 3
   },
   "file_extension": ".py",
   "mimetype": "text/x-python",
   "name": "python",
   "nbconvert_exporter": "python",
   "pygments_lexer": "ipython3",
   "version": "3.7.7"
  }
 },
 "nbformat": 4,
 "nbformat_minor": 2
}
